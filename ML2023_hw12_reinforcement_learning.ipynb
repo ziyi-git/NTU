{
 "cells": [
  {
   "attachments": {},
   "cell_type": "markdown",
   "metadata": {},
   "source": [
    "# **Homework 12 - Reinforcement Learning**\n",
    "\n",
    "If you have any problem, e-mail us at mlta-2023-spring@googlegroups.com\n",
    "\n"
   ]
  },
  {
   "attachments": {},
   "cell_type": "markdown",
   "metadata": {},
   "source": [
    "## Preliminary work\n",
    "\n",
    "First, we need to install all necessary packages.\n",
    "One of them, gym, builded by OpenAI, is a toolkit for developing Reinforcement Learning algorithm. Other packages are for visualization in colab."
   ]
  },
  {
   "cell_type": "code",
   "execution_count": 1,
   "metadata": {},
   "outputs": [
    {
     "name": "stdout",
     "output_type": "stream",
     "text": [
      "Requirement already satisfied: box2d==2.3.2 in /home/liuziyi/anaconda3/envs/ntu/lib/python3.10/site-packages (2.3.2)\n",
      "Requirement already satisfied: gym[box2d]==0.25.2 in /home/liuziyi/anaconda3/envs/ntu/lib/python3.10/site-packages (0.25.2)\n",
      "Requirement already satisfied: box2d-py in /home/liuziyi/anaconda3/envs/ntu/lib/python3.10/site-packages (2.3.5)\n",
      "Requirement already satisfied: pyvirtualdisplay in /home/liuziyi/anaconda3/envs/ntu/lib/python3.10/site-packages (3.0)\n",
      "Requirement already satisfied: tqdm in /home/liuziyi/anaconda3/envs/ntu/lib/python3.10/site-packages (4.65.0)\n",
      "Requirement already satisfied: numpy==1.22.4 in /home/liuziyi/anaconda3/envs/ntu/lib/python3.10/site-packages (1.22.4)\n",
      "Requirement already satisfied: gym-notices>=0.0.4 in /home/liuziyi/anaconda3/envs/ntu/lib/python3.10/site-packages (from gym[box2d]==0.25.2) (0.0.8)\n",
      "Requirement already satisfied: cloudpickle>=1.2.0 in /home/liuziyi/anaconda3/envs/ntu/lib/python3.10/site-packages (from gym[box2d]==0.25.2) (2.2.1)\n",
      "Requirement already satisfied: pygame==2.1.0 in /home/liuziyi/anaconda3/envs/ntu/lib/python3.10/site-packages (from gym[box2d]==0.25.2) (2.1.0)\n",
      "Requirement already satisfied: swig==4.* in /home/liuziyi/anaconda3/envs/ntu/lib/python3.10/site-packages (from gym[box2d]==0.25.2) (4.1.1)\n",
      "Requirement already satisfied: box2d==2.3.2 in /home/liuziyi/anaconda3/envs/ntu/lib/python3.10/site-packages (2.3.2)\n",
      "Requirement already satisfied: box2d-kengz in /home/liuziyi/anaconda3/envs/ntu/lib/python3.10/site-packages (2.3.3)\n"
     ]
    }
   ],
   "source": [
    "# !apt update\n",
    "# !apt install python-opengl xvfb -y\n",
    "!pip install -q swig\n",
    "!pip install box2d==2.3.2 gym[box2d]==0.25.2 box2d-py pyvirtualdisplay tqdm numpy==1.22.4 \n",
    "!pip install box2d==2.3.2 box2d-kengz\n",
    "!pip freeze > requirements.txt"
   ]
  },
  {
   "attachments": {},
   "cell_type": "markdown",
   "metadata": {},
   "source": [
    "Next, set up virtual display，and import all necessaary packages."
   ]
  },
  {
   "cell_type": "code",
   "execution_count": 2,
   "metadata": {},
   "outputs": [],
   "source": [
    "%%capture\n",
    "from pyvirtualdisplay import Display\n",
    "virtual_display = Display(visible=0, size=(1400, 900))\n",
    "virtual_display.start()\n",
    "\n",
    "%matplotlib inline\n",
    "import matplotlib.pyplot as plt\n",
    "\n",
    "from IPython import display\n",
    "\n",
    "import numpy as np\n",
    "import torch\n",
    "import torch.nn as nn\n",
    "import torch.optim as optim\n",
    "import torch.nn.functional as F  # torch.nn.functional定义一些具体的函数如卷积操作、激活函数、损失函数等\n",
    "# Categorical是一个分类分布：假如策略网络或者说actor输出了一个action（比如a1，a2，a3， a4）的类别概率[.1, .2, .3, .4]\n",
    "# 可以从这个分布中进行采样\n",
    "# probs = torch.tensor([.1, .2, .3, .4])\n",
    "# dist = Categorical(probs)\n",
    "# sample = dist.sample(dist)\n",
    "from torch.distributions import Categorical\n",
    "from tqdm.notebook import tqdm"
   ]
  },
  {
   "attachments": {},
   "cell_type": "markdown",
   "metadata": {},
   "source": [
    "# Warning ! Do not revise random seed !!!\n",
    "# Your submission on JudgeBoi will not reproduce your result !!!\n",
    "Make your HW result to be reproducible."
   ]
  },
  {
   "cell_type": "code",
   "execution_count": 3,
   "metadata": {},
   "outputs": [],
   "source": [
    "seed = 2023\n",
    "def fix(env, seed):\n",
    "    env.seed(seed)\n",
    "    env.action_space.seed(seed)\n",
    "    torch.backends.cudnn.deterministic = True\n",
    "    torch.backends.cudnn.benchmark = False  # 禁止cudnn的自动优化\n",
    "    np.random.seed(seed)\n",
    "    torch.manual_seed(seed)\n",
    "    if torch.cuda.is_available():\n",
    "        torch.cuda.manual_seed_all(seed)"
   ]
  },
  {
   "attachments": {},
   "cell_type": "markdown",
   "metadata": {},
   "source": [
    "Last, call gym and build an [Lunar Lander](https://gym.openai.com/envs/LunarLander-v2/) environment."
   ]
  },
  {
   "cell_type": "code",
   "execution_count": 4,
   "metadata": {},
   "outputs": [],
   "source": [
    "%%capture\n",
    "import gym\n",
    "import random\n",
    "env = gym.make('LunarLander-v2')\n",
    "fix(env, seed)"
   ]
  },
  {
   "attachments": {},
   "cell_type": "markdown",
   "metadata": {},
   "source": [
    "## What Lunar Lander？\n",
    "\n",
    "“LunarLander-v2”is to simulate the situation when the craft lands on the surface of the moon.\n",
    "\n",
    "This task is to enable the craft to land \"safely\" at the pad between the two yellow flags.\n",
    "> Landing pad is always at coordinates (0,0).\n",
    "> Coordinates are the first two numbers in state vector.\n",
    "\n",
    "![](https://gym.openai.com/assets/docs/aeloop-138c89d44114492fd02822303e6b4b07213010bb14ca5856d2d49d6b62d88e53.svg)\n",
    "\n",
    "\"LunarLander-v2\" actually includes \"Agent\" and \"Environment\". \n",
    "\n",
    "In this homework, we will utilize the function `step()` to control the action of \"Agent\". \n",
    "\n",
    "Then `step()` will return the observation/state and reward given by the \"Environment\"."
   ]
  },
  {
   "attachments": {},
   "cell_type": "markdown",
   "metadata": {},
   "source": [
    "### Observation / State\n",
    "\n",
    "First, we can take a look at what an Observation / State looks like."
   ]
  },
  {
   "cell_type": "code",
   "execution_count": 5,
   "metadata": {},
   "outputs": [
    {
     "name": "stdout",
     "output_type": "stream",
     "text": [
      "Box([-1.5       -1.5       -5.        -5.        -3.1415927 -5.\n",
      " -0.        -0.       ], [1.5       1.5       5.        5.        3.1415927 5.        1.\n",
      " 1.       ], (8,), float32)\n"
     ]
    }
   ],
   "source": [
    "# 解释：\n",
    "# Box([-1.5       -1.5       -5.        -5.        -3.1415927 -5.      -0.        -0.], \n",
    "#     [1.5         1.5        5.         5.         3.1415927 5.        1.         1.], (8,), float32)\n",
    "# 1.飞船在X轴上的范围-1.5～1.5\n",
    "# 2.飞船在Y轴上的范围-1.5～1.5\n",
    "# 3.飞船在X轴上的速度范围-5～5\n",
    "# 4.飞船在X轴上的速度范围-5～5\n",
    "# 5.飞船的角度范围-pi~pi\n",
    "# 6.飞船的角速度范围-pi~pi\n",
    "# 7.左引擎是否启动，0未启动，1启动\n",
    "# 8.右引擎是否启动，0未启动，1启动\n",
    "print(env.observation_space)"
   ]
  },
  {
   "attachments": {},
   "cell_type": "markdown",
   "metadata": {},
   "source": [
    "\n",
    "`Box(8,)`means that observation is an 8-dim vector\n",
    "### Action\n",
    "\n",
    "Actions can be taken by looks like"
   ]
  },
  {
   "cell_type": "code",
   "execution_count": 6,
   "metadata": {},
   "outputs": [
    {
     "name": "stdout",
     "output_type": "stream",
     "text": [
      "Discrete(4)\n"
     ]
    }
   ],
   "source": [
    "print(env.action_space)"
   ]
  },
  {
   "attachments": {},
   "cell_type": "markdown",
   "metadata": {},
   "source": [
    "`Discrete(4)` implies that there are four kinds of actions can be taken by agent.\n",
    "- 0 implies the agent will not take any actions\n",
    "- 2 implies the agent will accelerate downward\n",
    "- 1, 3 implies the agent will accelerate left and right\n",
    "\n",
    "Next, we will try to make the agent interact with the environment. \n",
    "Before taking any actions, we recommend to call `reset()` function to reset the environment. Also, this function will return the initial state of the environment."
   ]
  },
  {
   "cell_type": "code",
   "execution_count": 7,
   "metadata": {},
   "outputs": [
    {
     "name": "stdout",
     "output_type": "stream",
     "text": [
      "[-0.00506535  1.413064   -0.5130838   0.09527162  0.00587628  0.11622101\n",
      "  0.          0.        ]\n"
     ]
    }
   ],
   "source": [
    "intial_state = env.reset()\n",
    "print(intial_state)"
   ]
  },
  {
   "attachments": {},
   "cell_type": "markdown",
   "metadata": {},
   "source": [
    "Then, we try to get a random action from the agent's action space."
   ]
  },
  {
   "cell_type": "code",
   "execution_count": 8,
   "metadata": {},
   "outputs": [
    {
     "name": "stdout",
     "output_type": "stream",
     "text": [
      "1\n"
     ]
    }
   ],
   "source": [
    "random_action = env.action_space.sample()\n",
    "print(random_action)"
   ]
  },
  {
   "attachments": {},
   "cell_type": "markdown",
   "metadata": {},
   "source": [
    "More, we can utilize `step()` to make agent act according to the randomly-selected `random_action`.\n",
    "The `step()` function will return four values:\n",
    "- observation / state\n",
    "- reward\n",
    "- done (True/ False)\n",
    "- Other information"
   ]
  },
  {
   "cell_type": "code",
   "execution_count": 9,
   "metadata": {},
   "outputs": [],
   "source": [
    "observation, reward, done, info = env.step(random_action)"
   ]
  },
  {
   "cell_type": "code",
   "execution_count": 10,
   "metadata": {},
   "outputs": [
    {
     "name": "stdout",
     "output_type": "stream",
     "text": [
      "False\n"
     ]
    }
   ],
   "source": [
    "print(done)"
   ]
  },
  {
   "attachments": {},
   "cell_type": "markdown",
   "metadata": {},
   "source": [
    "### Reward\n",
    "\n",
    "\n",
    "> Landing pad is always at coordinates (0,0). Coordinates are the first two numbers in state vector. Reward for moving from the top of the screen to landing pad and zero speed is about 100..140 points. If lander moves away from landing pad it loses reward back. Episode finishes if the lander crashes or comes to rest, receiving additional -100 or +100 points. Each leg ground contact is +10. Firing main engine is -0.3 points each frame. Solved is 200 points. "
   ]
  },
  {
   "cell_type": "code",
   "execution_count": 11,
   "metadata": {},
   "outputs": [
    {
     "name": "stdout",
     "output_type": "stream",
     "text": [
      "-1.4981841929643156\n"
     ]
    }
   ],
   "source": [
    "print(reward)"
   ]
  },
  {
   "attachments": {},
   "cell_type": "markdown",
   "metadata": {},
   "source": [
    "### Random Agent\n",
    "In the end, before we start training, we can see whether a random agent can successfully land the moon or not."
   ]
  },
  {
   "cell_type": "code",
   "execution_count": 12,
   "metadata": {},
   "outputs": [
    {
     "data": {
      "image/png": "[encoded data removed]",
      "text/plain": [
       "<Figure size 640x480 with 1 Axes>"
      ]
     },
     "metadata": {},
     "output_type": "display_data"
    }
   ],
   "source": [
    "env.reset()\n",
    "\n",
    "img = plt.imshow(env.render(mode='rgb_array'))\n",
    "\n",
    "done = False\n",
    "while not done:\n",
    "    action = env.action_space.sample()\n",
    "    observation, reward, done, _ = env.step(action)\n",
    "\n",
    "    img.set_data(env.render(mode='rgb_array'))\n",
    "    display.display(plt.gcf())\n",
    "    display.clear_output(wait=True)"
   ]
  },
  {
   "attachments": {},
   "cell_type": "markdown",
   "metadata": {},
   "source": [
    "## Policy Gradient\n",
    "Now, we can build a simple policy network. The network will return one of action in the action space."
   ]
  },
  {
   "cell_type": "code",
   "execution_count": 13,
   "metadata": {},
   "outputs": [],
   "source": [
    "class PolicyGradientNetwork(nn.Module):\n",
    "    \n",
    "    def __init__(self):\n",
    "        super().__init__()\n",
    "        self.fc1 = nn.Linear(8, 16)\n",
    "        self.fc2 = nn.Linear(16, 16)\n",
    "        self.fc3 = nn.Linear(16, 4)\n",
    "    \n",
    "    def forward(self, state):\n",
    "        hid = torch.tanh(self.fc1(state))\n",
    "        hid = torch.tanh(hid)  # 问题：hid没有经过self.fc2，是否笔误\n",
    "        return F.softmax(self.fc3(hid), dim=-1)"
   ]
  },
  {
   "attachments": {},
   "cell_type": "markdown",
   "metadata": {},
   "source": [
    "Then, we need to build a simple agent. The agent will acts according to the output of the policy network above. There are a few things can be done by agent:\n",
    "- `learn()`：update the policy network from log probabilities and rewards.\n",
    "- `sample()`：After receiving observation from the environment, utilize policy network to tell which action to take. The return values of this function includes action and log probabilities. "
   ]
  },
  {
   "cell_type": "code",
   "execution_count": 14,
   "metadata": {},
   "outputs": [],
   "source": [
    "from torch.optim.lr_scheduler import StepLR\n",
    "\n",
    "class PolicyGradientAgent():\n",
    "    \n",
    "    def __init__(self, network):\n",
    "        self.network = network\n",
    "        self.optimizer = optim.SGD(self.network.parameters(), lr=0.002)\n",
    "    \n",
    "    def forward(self, state):\n",
    "        return self.network(state)\n",
    "    \n",
    "    def learn(self, log_probs, rewards):\n",
    "        # J(theta) = -sum(log(a))\n",
    "        loss = (-log_probs * rewards).sum()\n",
    "        self.optimizer.zero_grad()\n",
    "        loss.backward()\n",
    "        self.optimizer.step()\n",
    "    \n",
    "    def sample(self, state):\n",
    "        action_prob = self.network(torch.FloatTensor(state))\n",
    "        action_dist = Categorical(action_prob)\n",
    "        action = action_dist.sample()\n",
    "        log_prob = action_dist.log_prob(action)\n",
    "        return action.item(), log_prob"
   ]
  },
  {
   "attachments": {},
   "cell_type": "markdown",
   "metadata": {},
   "source": [
    "Lastly, build a network and agent to start training."
   ]
  },
  {
   "cell_type": "code",
   "execution_count": 15,
   "metadata": {},
   "outputs": [],
   "source": [
    "network = PolicyGradientNetwork()\n",
    "agent = PolicyGradientAgent(network)"
   ]
  },
  {
   "attachments": {},
   "cell_type": "markdown",
   "metadata": {},
   "source": [
    "## Training Agent\n",
    "\n",
    "Now let's start to train our agent.\n",
    "Through taking all the interactions between agent and environment as training data, the policy network can learn from all these attempts,"
   ]
  },
  {
   "cell_type": "code",
   "execution_count": 16,
   "metadata": {},
   "outputs": [
    {
     "data": {
      "application/vnd.jupyter.widget-view+json": {
       "model_id": "b6bc3b6d32084bb9a97c099b5263d810",
       "version_major": 2,
       "version_minor": 0
      },
      "text/plain": [
       "  0%|          | 0/100 [00:00<?, ?it/s]"
      ]
     },
     "metadata": {},
     "output_type": "display_data"
    },
    {
     "name": "stdout",
     "output_type": "stream",
     "text": [
      "rewards looks like  (510,)\n",
      "logs prob looks like  torch.Size([510])\n",
      "torch.from_numpy(rewards) looks like  torch.Size([510])\n",
      "rewards looks like  (491,)\n",
      "logs prob looks like  torch.Size([491])\n",
      "torch.from_numpy(rewards) looks like  torch.Size([491])\n",
      "rewards looks like  (1358,)\n",
      "logs prob looks like  torch.Size([1358])\n",
      "torch.from_numpy(rewards) looks like  torch.Size([1358])\n",
      "rewards looks like  (500,)\n",
      "logs prob looks like  torch.Size([500])\n",
      "torch.from_numpy(rewards) looks like  torch.Size([500])\n",
      "rewards looks like  (452,)\n",
      "logs prob looks like  torch.Size([452])\n",
      "torch.from_numpy(rewards) looks like  torch.Size([452])\n",
      "rewards looks like  (388,)\n",
      "logs prob looks like  torch.Size([388])\n",
      "torch.from_numpy(rewards) looks like  torch.Size([388])\n",
      "rewards looks like  (465,)\n",
      "logs prob looks like  torch.Size([465])\n",
      "torch.from_numpy(rewards) looks like  torch.Size([465])\n",
      "rewards looks like  (540,)\n",
      "logs prob looks like  torch.Size([540])\n",
      "torch.from_numpy(rewards) looks like  torch.Size([540])\n",
      "rewards looks like  (411,)\n",
      "logs prob looks like  torch.Size([411])\n",
      "torch.from_numpy(rewards) looks like  torch.Size([411])\n",
      "rewards looks like  (559,)\n",
      "logs prob looks like  torch.Size([559])\n",
      "torch.from_numpy(rewards) looks like  torch.Size([559])\n",
      "rewards looks like  (488,)\n",
      "logs prob looks like  torch.Size([488])\n",
      "torch.from_numpy(rewards) looks like  torch.Size([488])\n",
      "rewards looks like  (487,)\n",
      "logs prob looks like  torch.Size([487])\n",
      "torch.from_numpy(rewards) looks like  torch.Size([487])\n",
      "rewards looks like  (489,)\n",
      "logs prob looks like  torch.Size([489])\n",
      "torch.from_numpy(rewards) looks like  torch.Size([489])\n",
      "rewards looks like  (531,)\n",
      "logs prob looks like  torch.Size([531])\n",
      "torch.from_numpy(rewards) looks like  torch.Size([531])\n",
      "rewards looks like  (694,)\n",
      "logs prob looks like  torch.Size([694])\n",
      "torch.from_numpy(rewards) looks like  torch.Size([694])\n",
      "rewards looks like  (442,)\n",
      "logs prob looks like  torch.Size([442])\n",
      "torch.from_numpy(rewards) looks like  torch.Size([442])\n",
      "rewards looks like  (519,)\n",
      "logs prob looks like  torch.Size([519])\n",
      "torch.from_numpy(rewards) looks like  torch.Size([519])\n",
      "rewards looks like  (492,)\n",
      "logs prob looks like  torch.Size([492])\n",
      "torch.from_numpy(rewards) looks like  torch.Size([492])\n",
      "rewards looks like  (429,)\n",
      "logs prob looks like  torch.Size([429])\n",
      "torch.from_numpy(rewards) looks like  torch.Size([429])\n",
      "rewards looks like  (574,)\n",
      "logs prob looks like  torch.Size([574])\n",
      "torch.from_numpy(rewards) looks like  torch.Size([574])\n",
      "rewards looks like  (489,)\n",
      "logs prob looks like  torch.Size([489])\n",
      "torch.from_numpy(rewards) looks like  torch.Size([489])\n",
      "rewards looks like  (454,)\n",
      "logs prob looks like  torch.Size([454])\n",
      "torch.from_numpy(rewards) looks like  torch.Size([454])\n",
      "rewards looks like  (443,)\n",
      "logs prob looks like  torch.Size([443])\n",
      "torch.from_numpy(rewards) looks like  torch.Size([443])\n",
      "rewards looks like  (541,)\n",
      "logs prob looks like  torch.Size([541])\n",
      "torch.from_numpy(rewards) looks like  torch.Size([541])\n",
      "rewards looks like  (578,)\n",
      "logs prob looks like  torch.Size([578])\n",
      "torch.from_numpy(rewards) looks like  torch.Size([578])\n",
      "rewards looks like  (518,)\n",
      "logs prob looks like  torch.Size([518])\n",
      "torch.from_numpy(rewards) looks like  torch.Size([518])\n",
      "rewards looks like  (597,)\n",
      "logs prob looks like  torch.Size([597])\n",
      "torch.from_numpy(rewards) looks like  torch.Size([597])\n",
      "rewards looks like  (692,)\n",
      "logs prob looks like  torch.Size([692])\n",
      "torch.from_numpy(rewards) looks like  torch.Size([692])\n",
      "rewards looks like  (484,)\n",
      "logs prob looks like  torch.Size([484])\n",
      "torch.from_numpy(rewards) looks like  torch.Size([484])\n",
      "rewards looks like  (549,)\n",
      "logs prob looks like  torch.Size([549])\n",
      "torch.from_numpy(rewards) looks like  torch.Size([549])\n",
      "rewards looks like  (620,)\n",
      "logs prob looks like  torch.Size([620])\n",
      "torch.from_numpy(rewards) looks like  torch.Size([620])\n",
      "rewards looks like  (579,)\n",
      "logs prob looks like  torch.Size([579])\n",
      "torch.from_numpy(rewards) looks like  torch.Size([579])\n",
      "rewards looks like  (617,)\n",
      "logs prob looks like  torch.Size([617])\n",
      "torch.from_numpy(rewards) looks like  torch.Size([617])\n",
      "rewards looks like  (492,)\n",
      "logs prob looks like  torch.Size([492])\n",
      "torch.from_numpy(rewards) looks like  torch.Size([492])\n",
      "rewards looks like  (526,)\n",
      "logs prob looks like  torch.Size([526])\n",
      "torch.from_numpy(rewards) looks like  torch.Size([526])\n",
      "rewards looks like  (545,)\n",
      "logs prob looks like  torch.Size([545])\n",
      "torch.from_numpy(rewards) looks like  torch.Size([545])\n",
      "rewards looks like  (475,)\n",
      "logs prob looks like  torch.Size([475])\n",
      "torch.from_numpy(rewards) looks like  torch.Size([475])\n",
      "rewards looks like  (592,)\n",
      "logs prob looks like  torch.Size([592])\n",
      "torch.from_numpy(rewards) looks like  torch.Size([592])\n",
      "rewards looks like  (645,)\n",
      "logs prob looks like  torch.Size([645])\n",
      "torch.from_numpy(rewards) looks like  torch.Size([645])\n",
      "rewards looks like  (602,)\n",
      "logs prob looks like  torch.Size([602])\n",
      "torch.from_numpy(rewards) looks like  torch.Size([602])\n",
      "rewards looks like  (503,)\n",
      "logs prob looks like  torch.Size([503])\n",
      "torch.from_numpy(rewards) looks like  torch.Size([503])\n",
      "rewards looks like  (850,)\n",
      "logs prob looks like  torch.Size([850])\n",
      "torch.from_numpy(rewards) looks like  torch.Size([850])\n",
      "rewards looks like  (626,)\n",
      "logs prob looks like  torch.Size([626])\n",
      "torch.from_numpy(rewards) looks like  torch.Size([626])\n",
      "rewards looks like  (589,)\n",
      "logs prob looks like  torch.Size([589])\n",
      "torch.from_numpy(rewards) looks like  torch.Size([589])\n",
      "rewards looks like  (614,)\n",
      "logs prob looks like  torch.Size([614])\n",
      "torch.from_numpy(rewards) looks like  torch.Size([614])\n",
      "rewards looks like  (424,)\n",
      "logs prob looks like  torch.Size([424])\n",
      "torch.from_numpy(rewards) looks like  torch.Size([424])\n",
      "rewards looks like  (478,)\n",
      "logs prob looks like  torch.Size([478])\n",
      "torch.from_numpy(rewards) looks like  torch.Size([478])\n",
      "rewards looks like  (540,)\n",
      "logs prob looks like  torch.Size([540])\n",
      "torch.from_numpy(rewards) looks like  torch.Size([540])\n",
      "rewards looks like  (633,)\n",
      "logs prob looks like  torch.Size([633])\n",
      "torch.from_numpy(rewards) looks like  torch.Size([633])\n",
      "rewards looks like  (550,)\n",
      "logs prob looks like  torch.Size([550])\n",
      "torch.from_numpy(rewards) looks like  torch.Size([550])\n",
      "rewards looks like  (529,)\n",
      "logs prob looks like  torch.Size([529])\n",
      "torch.from_numpy(rewards) looks like  torch.Size([529])\n",
      "rewards looks like  (623,)\n",
      "logs prob looks like  torch.Size([623])\n",
      "torch.from_numpy(rewards) looks like  torch.Size([623])\n",
      "rewards looks like  (590,)\n",
      "logs prob looks like  torch.Size([590])\n",
      "torch.from_numpy(rewards) looks like  torch.Size([590])\n",
      "rewards looks like  (777,)\n",
      "logs prob looks like  torch.Size([777])\n",
      "torch.from_numpy(rewards) looks like  torch.Size([777])\n",
      "rewards looks like  (651,)\n",
      "logs prob looks like  torch.Size([651])\n",
      "torch.from_numpy(rewards) looks like  torch.Size([651])\n",
      "rewards looks like  (626,)\n",
      "logs prob looks like  torch.Size([626])\n",
      "torch.from_numpy(rewards) looks like  torch.Size([626])\n",
      "rewards looks like  (593,)\n",
      "logs prob looks like  torch.Size([593])\n",
      "torch.from_numpy(rewards) looks like  torch.Size([593])\n",
      "rewards looks like  (586,)\n",
      "logs prob looks like  torch.Size([586])\n",
      "torch.from_numpy(rewards) looks like  torch.Size([586])\n",
      "rewards looks like  (680,)\n",
      "logs prob looks like  torch.Size([680])\n",
      "torch.from_numpy(rewards) looks like  torch.Size([680])\n",
      "rewards looks like  (548,)\n",
      "logs prob looks like  torch.Size([548])\n",
      "torch.from_numpy(rewards) looks like  torch.Size([548])\n",
      "rewards looks like  (644,)\n",
      "logs prob looks like  torch.Size([644])\n",
      "torch.from_numpy(rewards) looks like  torch.Size([644])\n",
      "rewards looks like  (470,)\n",
      "logs prob looks like  torch.Size([470])\n",
      "torch.from_numpy(rewards) looks like  torch.Size([470])\n",
      "rewards looks like  (672,)\n",
      "logs prob looks like  torch.Size([672])\n",
      "torch.from_numpy(rewards) looks like  torch.Size([672])\n",
      "rewards looks like  (654,)\n",
      "logs prob looks like  torch.Size([654])\n",
      "torch.from_numpy(rewards) looks like  torch.Size([654])\n",
      "rewards looks like  (661,)\n",
      "logs prob looks like  torch.Size([661])\n",
      "torch.from_numpy(rewards) looks like  torch.Size([661])\n",
      "rewards looks like  (820,)\n",
      "logs prob looks like  torch.Size([820])\n",
      "torch.from_numpy(rewards) looks like  torch.Size([820])\n",
      "rewards looks like  (658,)\n",
      "logs prob looks like  torch.Size([658])\n",
      "torch.from_numpy(rewards) looks like  torch.Size([658])\n",
      "rewards looks like  (775,)\n",
      "logs prob looks like  torch.Size([775])\n",
      "torch.from_numpy(rewards) looks like  torch.Size([775])\n",
      "rewards looks like  (929,)\n",
      "logs prob looks like  torch.Size([929])\n",
      "torch.from_numpy(rewards) looks like  torch.Size([929])\n",
      "rewards looks like  (748,)\n",
      "logs prob looks like  torch.Size([748])\n",
      "torch.from_numpy(rewards) looks like  torch.Size([748])\n",
      "rewards looks like  (847,)\n",
      "logs prob looks like  torch.Size([847])\n",
      "torch.from_numpy(rewards) looks like  torch.Size([847])\n",
      "rewards looks like  (650,)\n",
      "logs prob looks like  torch.Size([650])\n",
      "torch.from_numpy(rewards) looks like  torch.Size([650])\n",
      "rewards looks like  (750,)\n",
      "logs prob looks like  torch.Size([750])\n",
      "torch.from_numpy(rewards) looks like  torch.Size([750])\n",
      "rewards looks like  (592,)\n",
      "logs prob looks like  torch.Size([592])\n",
      "torch.from_numpy(rewards) looks like  torch.Size([592])\n",
      "rewards looks like  (674,)\n",
      "logs prob looks like  torch.Size([674])\n",
      "torch.from_numpy(rewards) looks like  torch.Size([674])\n",
      "rewards looks like  (713,)\n",
      "logs prob looks like  torch.Size([713])\n",
      "torch.from_numpy(rewards) looks like  torch.Size([713])\n",
      "rewards looks like  (637,)\n",
      "logs prob looks like  torch.Size([637])\n",
      "torch.from_numpy(rewards) looks like  torch.Size([637])\n",
      "rewards looks like  (802,)\n",
      "logs prob looks like  torch.Size([802])\n",
      "torch.from_numpy(rewards) looks like  torch.Size([802])\n",
      "rewards looks like  (918,)\n",
      "logs prob looks like  torch.Size([918])\n",
      "torch.from_numpy(rewards) looks like  torch.Size([918])\n",
      "rewards looks like  (1007,)\n",
      "logs prob looks like  torch.Size([1007])\n",
      "torch.from_numpy(rewards) looks like  torch.Size([1007])\n",
      "rewards looks like  (749,)\n",
      "logs prob looks like  torch.Size([749])\n",
      "torch.from_numpy(rewards) looks like  torch.Size([749])\n",
      "rewards looks like  (700,)\n",
      "logs prob looks like  torch.Size([700])\n",
      "torch.from_numpy(rewards) looks like  torch.Size([700])\n",
      "rewards looks like  (840,)\n",
      "logs prob looks like  torch.Size([840])\n",
      "torch.from_numpy(rewards) looks like  torch.Size([840])\n",
      "rewards looks like  (878,)\n",
      "logs prob looks like  torch.Size([878])\n",
      "torch.from_numpy(rewards) looks like  torch.Size([878])\n",
      "rewards looks like  (718,)\n",
      "logs prob looks like  torch.Size([718])\n",
      "torch.from_numpy(rewards) looks like  torch.Size([718])\n",
      "rewards looks like  (828,)\n",
      "logs prob looks like  torch.Size([828])\n",
      "torch.from_numpy(rewards) looks like  torch.Size([828])\n",
      "rewards looks like  (833,)\n",
      "logs prob looks like  torch.Size([833])\n",
      "torch.from_numpy(rewards) looks like  torch.Size([833])\n",
      "rewards looks like  (952,)\n",
      "logs prob looks like  torch.Size([952])\n",
      "torch.from_numpy(rewards) looks like  torch.Size([952])\n",
      "rewards looks like  (624,)\n",
      "logs prob looks like  torch.Size([624])\n",
      "torch.from_numpy(rewards) looks like  torch.Size([624])\n",
      "rewards looks like  (646,)\n",
      "logs prob looks like  torch.Size([646])\n",
      "torch.from_numpy(rewards) looks like  torch.Size([646])\n",
      "rewards looks like  (1028,)\n",
      "logs prob looks like  torch.Size([1028])\n",
      "torch.from_numpy(rewards) looks like  torch.Size([1028])\n",
      "rewards looks like  (1266,)\n",
      "logs prob looks like  torch.Size([1266])\n",
      "torch.from_numpy(rewards) looks like  torch.Size([1266])\n",
      "rewards looks like  (976,)\n",
      "logs prob looks like  torch.Size([976])\n",
      "torch.from_numpy(rewards) looks like  torch.Size([976])\n",
      "rewards looks like  (1333,)\n",
      "logs prob looks like  torch.Size([1333])\n",
      "torch.from_numpy(rewards) looks like  torch.Size([1333])\n",
      "rewards looks like  (609,)\n",
      "logs prob looks like  torch.Size([609])\n",
      "torch.from_numpy(rewards) looks like  torch.Size([609])\n",
      "rewards looks like  (572,)\n",
      "logs prob looks like  torch.Size([572])\n",
      "torch.from_numpy(rewards) looks like  torch.Size([572])\n",
      "rewards looks like  (733,)\n",
      "logs prob looks like  torch.Size([733])\n",
      "torch.from_numpy(rewards) looks like  torch.Size([733])\n",
      "rewards looks like  (1003,)\n",
      "logs prob looks like  torch.Size([1003])\n",
      "torch.from_numpy(rewards) looks like  torch.Size([1003])\n",
      "rewards looks like  (1688,)\n",
      "logs prob looks like  torch.Size([1688])\n",
      "torch.from_numpy(rewards) looks like  torch.Size([1688])\n",
      "rewards looks like  (1429,)\n",
      "logs prob looks like  torch.Size([1429])\n",
      "torch.from_numpy(rewards) looks like  torch.Size([1429])\n"
     ]
    }
   ],
   "source": [
    "agent.network.train()\n",
    "EPISODE_PER_BACTH = 5\n",
    "NUM_BATCH = 100  # 1个batch中5个episode，每个batch后更新1次\n",
    "\n",
    "avg_total_rewards, avg_final_rewards = [], []\n",
    "\n",
    "prg_bar = tqdm(range(NUM_BATCH))\n",
    "for batch in prg_bar:\n",
    "\n",
    "    log_probs, rewards = [], []\n",
    "    total_rewards, final_rewards = [], []\n",
    "\n",
    "    for episode in range(EPISODE_PER_BACTH):\n",
    "        state = env.reset()\n",
    "        total_reward, total_step = 0, 0\n",
    "        seq_rewards = []\n",
    "        while True:\n",
    "            action, log_prob = agent.sample(state)\n",
    "            next_state, reward, done, _ = env.step(action)\n",
    "\n",
    "            log_probs.append(log_prob)\n",
    "            state = next_state\n",
    "            total_reward += reward\n",
    "            total_step += 1\n",
    "            rewards.append(reward)\n",
    "            # ! IMPORTANT !\n",
    "            # Current reward implementation: immediate reward,  given action_list : a1, a2, a3 ......\n",
    "            #                                                         rewards :     r1, r2 ,r3 ......\n",
    "            # medium：change \"rewards\" to accumulative decaying reward, given action_list : a1,                           a2,                           a3, ......\n",
    "            #                                                           rewards :           r1+0.99*r2+0.99^2*r3+......, r2+0.99*r3+0.99^2*r4+...... ,  r3+0.99*r4+0.99^2*r5+ ......\n",
    "            # boss : implement Actor-Critic\n",
    "\n",
    "            if done:\n",
    "                final_rewards.append(reward)\n",
    "                total_rewards.append(total_reward)\n",
    "                break\n",
    "    \n",
    "    print(f\"rewards looks like \", np.shape(rewards))\n",
    "\n",
    "    avg_total_reward = sum(total_rewards) / len(total_rewards)\n",
    "    avg_final_reward = sum(final_rewards) / len(final_rewards)\n",
    "    avg_total_rewards.append(avg_total_reward)\n",
    "    avg_final_rewards.append(avg_final_reward)\n",
    "    prg_bar.set_description(f\"Total: {avg_total_reward: 4.1f}, Final: {avg_final_reward: 4.1f}\")\n",
    "\n",
    "    rewards = (rewards - np.mean(rewards)) / (np.std(rewards) + 1e-9)\n",
    "    agent.learn(torch.stack(log_probs), torch.from_numpy(rewards))\n",
    "    print(\"logs prob looks like \", torch.stack(log_probs).size())\n",
    "    print(\"torch.from_numpy(rewards) looks like \", torch.from_numpy(rewards).size())"
   ]
  },
  {
   "attachments": {},
   "cell_type": "markdown",
   "metadata": {},
   "source": [
    "### Training Result\n",
    "During the training process, we recorded `avg_total_reward`, which represents the average total reward of episodes before updating the policy network.\n",
    "\n",
    "Theoretically, if the agent becomes better, the `avg_total_reward` will increase.\n",
    "The visualization of the training process is shown below:  \n"
   ]
  },
  {
   "cell_type": "code",
   "execution_count": 17,
   "metadata": {},
   "outputs": [
    {
     "data": {
      "image/png": "[encoded data removed]",
      "text/plain": [
       "<Figure size 640x480 with 1 Axes>"
      ]
     },
     "metadata": {},
     "output_type": "display_data"
    }
   ],
   "source": [
    "plt.plot(avg_total_rewards)\n",
    "plt.title(\"Total Rewards\")\n",
    "plt.show()"
   ]
  },
  {
   "attachments": {},
   "cell_type": "markdown",
   "metadata": {},
   "source": [
    "In addition, `avg_final_reward` represents average final rewards of episodes. To be specific, final rewards is the last reward received in one episode, indicating whether the craft lands successfully or not.\n"
   ]
  },
  {
   "cell_type": "code",
   "execution_count": 18,
   "metadata": {},
   "outputs": [
    {
     "data": {
      "image/png": "[encoded data removed]",
      "text/plain": [
       "<Figure size 640x480 with 1 Axes>"
      ]
     },
     "metadata": {},
     "output_type": "display_data"
    }
   ],
   "source": [
    "plt.plot(avg_final_rewards)\n",
    "plt.title(\"Final Rewards\")\n",
    "plt.show()"
   ]
  },
  {
   "attachments": {},
   "cell_type": "markdown",
   "metadata": {},
   "source": [
    "## Testing\n",
    "The testing result will be the average reward of 5 testing"
   ]
  },
  {
   "cell_type": "code",
   "execution_count": 22,
   "metadata": {},
   "outputs": [
    {
     "name": "stdout",
     "output_type": "stream",
     "text": [
      "-72.19907594935248\n"
     ]
    },
    {
     "data": {
      "image/png": "[encoded data removed]",
      "text/plain": [
       "<Figure size 640x480 with 1 Axes>"
      ]
     },
     "metadata": {},
     "output_type": "display_data"
    }
   ],
   "source": [
    "fix(env, seed)\n",
    "agent.network.eval()\n",
    "NUM_OF_TEST = 5\n",
    "test_total_reward = []\n",
    "action_list = []\n",
    "for i in range(NUM_OF_TEST):\n",
    "    actions = []\n",
    "    state = env.reset()\n",
    "\n",
    "    img = plt.imshow(env.render(mode='rgb_array'))\n",
    "\n",
    "    total_reward = 0\n",
    "\n",
    "    done = False\n",
    "    while not done:\n",
    "        action, _ = agent.sample(state)\n",
    "        actions.append(action)\n",
    "        state, reward, done, _ = env.step(action)\n",
    "\n",
    "        total_reward += reward\n",
    "\n",
    "        img.set_data(env.render(mode='rgb_array'))\n",
    "        display.display(plt.gcf())\n",
    "        display.clear_output(wait=True)\n",
    "    \n",
    "    print(total_reward)\n",
    "    test_total_reward.append(total_reward)\n",
    "    \n",
    "    action_list.append(actions) # save the result of testing "
   ]
  },
  {
   "cell_type": "code",
   "execution_count": 23,
   "metadata": {},
   "outputs": [
    {
     "name": "stdout",
     "output_type": "stream",
     "text": [
      "-176.82535242958932\n"
     ]
    }
   ],
   "source": [
    "print(np.mean(test_total_reward))"
   ]
  },
  {
   "attachments": {},
   "cell_type": "markdown",
   "metadata": {},
   "source": [
    "Action list"
   ]
  },
  {
   "cell_type": "code",
   "execution_count": 24,
   "metadata": {},
   "outputs": [
    {
     "name": "stdout",
     "output_type": "stream",
     "text": [
      "Action list looks like  [[2, 3, 3, 3, 3, 3, 3, 2, 2, 3, 0, 3, 2, 2, 2, 3, 2, 2, 3, 2, 2, 3, 2, 2, 1, 3, 2, 1, 2, 2, 1, 2, 3, 1, 3, 2, 2, 2, 2, 1, 2, 2, 1, 2, 1, 1, 3, 1, 2, 2, 1, 2, 2, 0, 2, 2, 2, 1, 2, 2, 1, 1, 2, 1, 1, 2, 1, 1, 2, 2, 0, 2, 2, 3, 1, 2, 1, 2, 2, 2, 1, 2, 0, 2, 2, 1, 2, 1, 1, 1, 1, 2, 2, 2, 1, 2, 2, 1, 2, 2, 2, 2, 2, 2, 2, 2, 0, 2, 1, 2, 2, 1, 1, 2, 2, 3, 2, 3, 2, 2, 2, 2, 3, 3, 3, 2, 3, 2, 0, 2, 2, 0, 2, 1, 3, 3, 0, 3, 2, 3, 2, 3, 2, 3, 3, 3, 2, 3, 3, 3, 3, 3, 3, 3, 2, 3, 2, 1, 2, 2, 3, 3, 3, 3, 3, 2, 3, 3, 3, 3, 2, 3, 2, 2, 2, 2, 2, 2, 2, 2, 2, 2, 2, 2, 2, 2, 1, 2, 2, 2, 2, 2, 2, 2, 2, 2, 2, 2, 2, 0, 2, 1, 2, 2, 1, 0, 2, 1, 1, 1, 3, 1, 1, 1, 1, 1, 1, 1, 1, 1, 2, 1, 1, 2, 1], [3, 3, 3, 3, 3, 3, 1, 1, 3, 0, 2, 2, 2, 2, 1, 1, 2, 3, 3, 2, 3, 3, 3, 2, 0, 3, 1, 3, 2, 3, 3, 1, 0, 2, 3, 3, 3, 2, 2, 0, 3, 2, 3, 2, 0, 2, 2, 2, 2, 2, 3, 1, 2, 3, 2, 2, 3, 2, 2, 2, 2, 1, 2, 2, 2, 2, 2, 1, 3, 2, 1, 1, 1, 1, 1, 1, 1, 2, 1, 2, 2, 1, 1, 2, 1, 1, 2, 2, 1, 2, 1, 1, 2, 1, 2, 1, 1, 1, 1, 1, 2, 1, 1, 2, 1, 1, 1, 1, 0, 2, 1, 2, 2, 2, 2, 2, 2, 2, 2, 2, 2, 2, 2, 2, 2, 2, 0, 2, 2, 3, 2, 2, 0, 1, 2, 2, 0, 2, 2, 2, 2, 2, 2, 2, 2, 3, 2, 2, 0, 2, 3, 2, 3, 2, 3, 3, 3, 3, 3, 2, 3, 3, 3, 3, 3, 3, 3, 3, 2, 3, 3, 3, 2, 3, 3, 2, 3, 2, 3], [3, 2, 2, 3, 3, 3, 2, 3, 3, 3, 0, 3, 3, 3, 2, 3, 3, 2, 3, 2, 2, 3, 2, 3, 2, 1, 3, 2, 3, 3, 2, 3, 2, 2, 2, 2, 1, 2, 2, 3, 2, 1, 3, 2, 1, 2, 1, 1, 2, 2, 1, 1, 1, 0, 2, 1, 1, 2, 1, 0, 2, 2, 1, 1, 1, 0, 1, 2, 1, 2, 2, 1, 2, 1, 1, 2, 1, 0, 2, 0, 1, 1, 2, 2, 1, 1, 1, 2, 2, 2, 1, 2, 1, 2, 2, 2, 2, 1, 0, 2, 2, 1, 2, 2, 0, 1, 3, 2, 1, 1, 2, 1, 2, 2, 2, 2, 2, 2, 1, 2, 2, 2, 2, 3, 2, 2, 2, 3, 2, 2, 2, 3, 2, 2, 2, 2, 3, 3, 2, 0, 2, 2, 2, 3, 3, 2, 3, 3, 3, 2, 3, 3, 3, 3, 3, 0, 0, 3, 3, 3, 3, 3], [2, 2, 0, 2, 2, 3, 2, 1, 2, 2, 2, 0, 2, 2, 2, 0, 2, 1, 3, 2, 1, 0, 1, 2, 1, 2, 1, 1, 2, 1, 2, 2, 0, 2, 2, 2, 2, 2, 2, 0, 1, 1, 2, 2, 2, 3, 2, 2, 2, 2, 2, 2, 1, 1, 2, 2, 1, 2, 2, 2, 2, 2, 2, 3, 1, 2, 2, 2, 2, 2, 1, 3, 2, 1, 1, 2, 2, 2, 2, 0, 2, 2, 3, 3, 2, 2, 0, 3, 2, 3, 2, 0, 1, 3, 2, 3, 3, 1, 2, 2, 1, 3, 1, 2, 3, 3, 3, 3, 2, 3, 3, 3, 3, 3, 2, 2, 2, 3, 3, 3, 2, 3, 2, 0, 2, 2, 2, 3, 2, 2, 2, 3, 3, 2, 2, 3, 2, 1, 3, 2, 3, 3, 2, 2, 2, 2, 2, 1, 3, 2, 2, 2, 3, 2, 2, 1, 2, 1, 1, 2, 2, 2, 0, 2, 2, 3, 1, 1, 1, 1, 2, 1, 1, 1, 2, 1, 1, 2, 1, 2, 2, 1, 2, 1, 1, 2, 2, 1, 0, 3, 1, 1, 1, 1, 1, 2, 2, 2, 2, 1, 1, 2, 1, 1, 2, 1, 1, 1, 1, 1, 1, 1, 2, 2, 2, 1, 2, 2, 1, 2, 2, 2, 2, 2, 1, 0, 2, 2, 1, 2, 2, 2, 1, 2], [2, 2, 2, 2, 2, 2, 3, 3, 2, 3, 3, 2, 3, 2, 2, 2, 3, 2, 2, 2, 2, 3, 2, 2, 3, 2, 3, 2, 0, 3, 2, 1, 3, 1, 2, 2, 2, 2, 3, 2, 2, 1, 2, 0, 3, 0, 2, 2, 2, 1, 0, 2, 2, 2, 1, 2, 2, 1, 1, 0, 2, 1, 2, 1, 1, 2, 3, 1, 2, 1, 1, 2, 1, 1, 1, 2, 2, 1, 1, 2, 1, 1, 2, 0, 1, 1, 2, 0, 2, 1, 2, 0, 2, 2, 1, 0, 2, 2, 2, 1, 0, 0, 2, 0, 2, 2, 2, 2, 2, 2, 2, 2, 2, 2, 2, 1, 1, 2, 2, 3, 2, 3, 2, 2, 1, 2, 2, 3, 2, 3, 1, 2, 3, 0, 3, 2, 2, 2, 2, 2, 2, 3, 3, 3, 3, 3, 2, 2, 2, 3, 2, 3, 3, 3, 3, 2, 3, 3, 3, 3, 3, 2, 3, 3, 3, 2, 3, 3, 2, 2, 3, 3, 3, 2, 3, 3, 2, 2, 3, 2, 3, 3, 3, 3, 2, 2, 2, 2, 2, 2, 2, 0, 2]]\n",
      "Action list's shape looks like  (5,)\n"
     ]
    }
   ],
   "source": [
    "print(\"Action list looks like \", action_list)\n",
    "print(\"Action list's shape looks like \", np.shape(action_list))"
   ]
  },
  {
   "attachments": {},
   "cell_type": "markdown",
   "metadata": {},
   "source": [
    "Analysis of actions taken by agent"
   ]
  },
  {
   "cell_type": "code",
   "execution_count": 25,
   "metadata": {},
   "outputs": [
    {
     "name": "stdout",
     "output_type": "stream",
     "text": [
      "{2: 495, 3: 227, 0: 58, 1: 213}\n"
     ]
    }
   ],
   "source": [
    "distribution = {}\n",
    "for actions in action_list:\n",
    "  for action in actions:\n",
    "    if action not in distribution.keys():\n",
    "      distribution[action] = 1\n",
    "    else:\n",
    "      distribution[action] += 1\n",
    "print(distribution)"
   ]
  },
  {
   "attachments": {},
   "cell_type": "markdown",
   "metadata": {},
   "source": [
    "Saving the result of Model Testing"
   ]
  },
  {
   "cell_type": "code",
   "execution_count": 26,
   "metadata": {},
   "outputs": [
    {
     "name": "stderr",
     "output_type": "stream",
     "text": [
      "/tmp/ipykernel_19114/1616289779.py:2: VisibleDeprecationWarning: Creating an ndarray from ragged nested sequences (which is a list-or-tuple of lists-or-tuples-or ndarrays with different lengths or shapes) is deprecated. If you meant to do this, you must specify 'dtype=object' when creating the ndarray.\n",
      "  np.save(PATH ,np.array(action_list))\n"
     ]
    }
   ],
   "source": [
    "PATH = \"Action_List.npy\" # Can be modified into the name or path you want\n",
    "np.save(PATH ,np.array(action_list)) "
   ]
  },
  {
   "attachments": {},
   "cell_type": "markdown",
   "metadata": {},
   "source": [
    "### This is the file you need to submit !!!\n",
    "Download the testing result to your device\n",
    "\n"
   ]
  },
  {
   "cell_type": "code",
   "execution_count": null,
   "metadata": {},
   "outputs": [],
   "source": [
    "from google.colab import files\n",
    "files.download(PATH)"
   ]
  },
  {
   "attachments": {},
   "cell_type": "markdown",
   "metadata": {},
   "source": [
    "# Server \n",
    "The code below simulate the environment on the judge server. Can be used for testing."
   ]
  },
  {
   "cell_type": "code",
   "execution_count": 27,
   "metadata": {},
   "outputs": [
    {
     "name": "stdout",
     "output_type": "stream",
     "text": [
      "Your reward is : -219.43\n",
      "Your reward is : -201.82\n",
      "Your reward is : -225.77\n",
      "Your reward is : -164.91\n",
      "Your reward is : -72.20\n"
     ]
    },
    {
     "data": {
      "image/png": "[encoded data removed]",
      "text/plain": [
       "<Figure size 640x480 with 1 Axes>"
      ]
     },
     "metadata": {},
     "output_type": "display_data"
    }
   ],
   "source": [
    "action_list = np.load(PATH, allow_pickle=True)\n",
    "seed = 2023\n",
    "fix(env, seed)\n",
    "\n",
    "agent.network.eval()\n",
    "\n",
    "test_total_reward = []\n",
    "if len(action_list) != 5:\n",
    "    print(\"Wrong format of file !!!\")\n",
    "    exit(0)\n",
    "for actions in action_list:\n",
    "    state = env.reset()\n",
    "    img = plt.imshow(env.render(mode='rgb_array'))\n",
    "\n",
    "    total_reward = 0\n",
    "    \n",
    "    done = False\n",
    "    \n",
    "    for action in actions:\n",
    "        state, reward, done, _ = env.step(action)\n",
    "        total_reward += reward\n",
    "        if done:\n",
    "            break\n",
    "    \n",
    "    print(f\"Your reward is : %.2f\"%total_reward)\n",
    "    test_total_reward.append(total_reward)"
   ]
  },
  {
   "attachments": {},
   "cell_type": "markdown",
   "metadata": {},
   "source": [
    "# Your score"
   ]
  },
  {
   "cell_type": "code",
   "execution_count": 28,
   "metadata": {},
   "outputs": [
    {
     "name": "stdout",
     "output_type": "stream",
     "text": [
      "Your final reward is : -176.83\n"
     ]
    }
   ],
   "source": [
    "print(f\"Your final reward is : %.2f\"%np.mean(test_total_reward))"
   ]
  },
  {
   "attachments": {},
   "cell_type": "markdown",
   "metadata": {},
   "source": [
    "## Reference\n",
    "\n",
    "Below are some useful tips for you to get high score.\n",
    "\n",
    "- [DRL Lecture 1: Policy Gradient (Review)](https://youtu.be/z95ZYgPgXOY)\n",
    "- [ML Lecture 23-3: Reinforcement Learning (including Q-learning) start at 30:00](https://youtu.be/2-JNBzCq77c?t=1800)\n",
    "- [Lecture 7: Policy Gradient, David Silver](http://www0.cs.ucl.ac.uk/staff/d.silver/web/Teaching_files/pg.pdf)\n"
   ]
  }
 ],
 "metadata": {
  "kernelspec": {
   "display_name": "ntu",
   "language": "python",
   "name": "python3"
  },
  "language_info": {
   "codemirror_mode": {
    "name": "ipython",
    "version": 3
   },
   "file_extension": ".py",
   "mimetype": "text/x-python",
   "name": "python",
   "nbconvert_exporter": "python",
   "pygments_lexer": "ipython3",
   "version": "3.10.11"
  },
  "orig_nbformat": 4
 },
 "nbformat": 4,
 "nbformat_minor": 2
}
