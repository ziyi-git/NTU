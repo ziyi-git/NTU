{
 "cells": [
  {
   "attachments": {},
   "cell_type": "markdown",
   "metadata": {},
   "source": [
    "# **Homework 12 - Reinforcement Learning**\n",
    "\n",
    "If you have any problem, e-mail us at mlta-2023-spring@googlegroups.com\n",
    "\n"
   ]
  },
  {
   "attachments": {},
   "cell_type": "markdown",
   "metadata": {},
   "source": [
    "## Preliminary work\n",
    "\n",
    "First, we need to install all necessary packages.\n",
    "One of them, gym, builded by OpenAI, is a toolkit for developing Reinforcement Learning algorithm. Other packages are for visualization in colab."
   ]
  },
  {
   "cell_type": "code",
   "execution_count": 1,
   "metadata": {},
   "outputs": [
    {
     "name": "stdout",
     "output_type": "stream",
     "text": [
      "Requirement already satisfied: box2d==2.3.2 in /home/liuziyi/anaconda3/envs/ntu/lib/python3.10/site-packages (2.3.2)\n",
      "Requirement already satisfied: gym[box2d]==0.25.2 in /home/liuziyi/anaconda3/envs/ntu/lib/python3.10/site-packages (0.25.2)\n",
      "Requirement already satisfied: box2d-py in /home/liuziyi/anaconda3/envs/ntu/lib/python3.10/site-packages (2.3.5)\n",
      "Requirement already satisfied: pyvirtualdisplay in /home/liuziyi/anaconda3/envs/ntu/lib/python3.10/site-packages (3.0)\n",
      "Requirement already satisfied: tqdm in /home/liuziyi/anaconda3/envs/ntu/lib/python3.10/site-packages (4.65.0)\n",
      "Requirement already satisfied: numpy==1.22.4 in /home/liuziyi/anaconda3/envs/ntu/lib/python3.10/site-packages (1.22.4)\n",
      "Requirement already satisfied: cloudpickle>=1.2.0 in /home/liuziyi/anaconda3/envs/ntu/lib/python3.10/site-packages (from gym[box2d]==0.25.2) (2.2.1)\n",
      "Requirement already satisfied: gym-notices>=0.0.4 in /home/liuziyi/anaconda3/envs/ntu/lib/python3.10/site-packages (from gym[box2d]==0.25.2) (0.0.8)\n",
      "Requirement already satisfied: pygame==2.1.0 in /home/liuziyi/anaconda3/envs/ntu/lib/python3.10/site-packages (from gym[box2d]==0.25.2) (2.1.0)\n",
      "Requirement already satisfied: swig==4.* in /home/liuziyi/anaconda3/envs/ntu/lib/python3.10/site-packages (from gym[box2d]==0.25.2) (4.1.1)\n",
      "Requirement already satisfied: box2d==2.3.2 in /home/liuziyi/anaconda3/envs/ntu/lib/python3.10/site-packages (2.3.2)\n",
      "Requirement already satisfied: box2d-kengz in /home/liuziyi/anaconda3/envs/ntu/lib/python3.10/site-packages (2.3.3)\n"
     ]
    }
   ],
   "source": [
    "# !apt update\n",
    "# !apt install python-opengl xvfb -y\n",
    "!pip install -q swig\n",
    "!pip install box2d==2.3.2 gym[box2d]==0.25.2 box2d-py pyvirtualdisplay tqdm numpy==1.22.4 \n",
    "!pip install box2d==2.3.2 box2d-kengz\n",
    "!pip freeze > requirements.txt"
   ]
  },
  {
   "attachments": {},
   "cell_type": "markdown",
   "metadata": {},
   "source": [
    "Next, set up virtual display，and import all necessaary packages."
   ]
  },
  {
   "cell_type": "code",
   "execution_count": 2,
   "metadata": {},
   "outputs": [],
   "source": [
    "%%capture\n",
    "from pyvirtualdisplay import Display\n",
    "virtual_display = Display(visible=0, size=(1400, 900))\n",
    "virtual_display.start()\n",
    "\n",
    "%matplotlib inline\n",
    "import matplotlib.pyplot as plt\n",
    "\n",
    "from IPython import display\n",
    "\n",
    "import numpy as np\n",
    "import torch\n",
    "import torch.nn as nn\n",
    "import torch.optim as optim\n",
    "import torch.nn.functional as F  # torch.nn.functional定义一些具体的函数如卷积操作、激活函数、损失函数等\n",
    "# Categorical是一个分类分布：假如策略网络或者说actor输出了一个action（比如a1，a2，a3， a4）的类别概率[.1, .2, .3, .4]\n",
    "# 可以从这个分布中进行采样\n",
    "# probs = torch.tensor([.1, .2, .3, .4])\n",
    "# dist = Categorical(probs)\n",
    "# sample = dist.sample(dist)\n",
    "from torch.distributions import Categorical\n",
    "from tqdm.notebook import tqdm"
   ]
  },
  {
   "attachments": {},
   "cell_type": "markdown",
   "metadata": {},
   "source": [
    "# Warning ! Do not revise random seed !!!\n",
    "# Your submission on JudgeBoi will not reproduce your result !!!\n",
    "Make your HW result to be reproducible."
   ]
  },
  {
   "cell_type": "code",
   "execution_count": 3,
   "metadata": {},
   "outputs": [],
   "source": [
    "seed = 2023\n",
    "def fix(env, seed):\n",
    "    env.seed(seed)\n",
    "    env.action_space.seed(seed)\n",
    "    torch.backends.cudnn.deterministic = True\n",
    "    torch.backends.cudnn.benchmark = False  # 禁止cudnn的自动优化\n",
    "    np.random.seed(seed)\n",
    "    torch.manual_seed(seed)\n",
    "    if torch.cuda.is_available():\n",
    "        torch.cuda.manual_seed_all(seed)"
   ]
  },
  {
   "attachments": {},
   "cell_type": "markdown",
   "metadata": {},
   "source": [
    "Last, call gym and build an [Lunar Lander](https://gym.openai.com/envs/LunarLander-v2/) environment."
   ]
  },
  {
   "cell_type": "code",
   "execution_count": 4,
   "metadata": {},
   "outputs": [],
   "source": [
    "%%capture\n",
    "import gym\n",
    "import random\n",
    "env = gym.make('LunarLander-v2')\n",
    "fix(env, seed)"
   ]
  },
  {
   "attachments": {},
   "cell_type": "markdown",
   "metadata": {},
   "source": [
    "## What Lunar Lander？\n",
    "\n",
    "“LunarLander-v2”is to simulate the situation when the craft lands on the surface of the moon.\n",
    "\n",
    "This task is to enable the craft to land \"safely\" at the pad between the two yellow flags.\n",
    "> Landing pad is always at coordinates (0,0).\n",
    "> Coordinates are the first two numbers in state vector.\n",
    "\n",
    "![](https://gym.openai.com/assets/docs/aeloop-138c89d44114492fd02822303e6b4b07213010bb14ca5856d2d49d6b62d88e53.svg)\n",
    "\n",
    "\"LunarLander-v2\" actually includes \"Agent\" and \"Environment\". \n",
    "\n",
    "In this homework, we will utilize the function `step()` to control the action of \"Agent\". \n",
    "\n",
    "Then `step()` will return the observation/state and reward given by the \"Environment\"."
   ]
  },
  {
   "attachments": {},
   "cell_type": "markdown",
   "metadata": {},
   "source": [
    "### Observation / State\n",
    "\n",
    "First, we can take a look at what an Observation / State looks like."
   ]
  },
  {
   "cell_type": "code",
   "execution_count": 5,
   "metadata": {},
   "outputs": [
    {
     "name": "stdout",
     "output_type": "stream",
     "text": [
      "Box([-1.5       -1.5       -5.        -5.        -3.1415927 -5.\n",
      " -0.        -0.       ], [1.5       1.5       5.        5.        3.1415927 5.        1.\n",
      " 1.       ], (8,), float32)\n"
     ]
    }
   ],
   "source": [
    "# 解释：\n",
    "# Box([-1.5       -1.5       -5.        -5.        -3.1415927 -5.      -0.        -0.], \n",
    "#     [1.5         1.5        5.         5.         3.1415927 5.        1.         1.], (8,), float32)\n",
    "# 1.飞船在X轴上的范围-1.5～1.5\n",
    "# 2.飞船在Y轴上的范围-1.5～1.5\n",
    "# 3.飞船在X轴上的速度范围-5～5\n",
    "# 4.飞船在X轴上的速度范围-5～5\n",
    "# 5.飞船的角度范围-pi~pi\n",
    "# 6.飞船的角速度范围-pi~pi\n",
    "# 7.左引擎是否启动，0未启动，1启动\n",
    "# 8.右引擎是否启动，0未启动，1启动\n",
    "print(env.observation_space)"
   ]
  },
  {
   "attachments": {},
   "cell_type": "markdown",
   "metadata": {},
   "source": [
    "\n",
    "`Box(8,)`means that observation is an 8-dim vector\n",
    "### Action\n",
    "\n",
    "Actions can be taken by looks like"
   ]
  },
  {
   "cell_type": "code",
   "execution_count": 6,
   "metadata": {},
   "outputs": [
    {
     "name": "stdout",
     "output_type": "stream",
     "text": [
      "Discrete(4)\n"
     ]
    }
   ],
   "source": [
    "print(env.action_space)"
   ]
  },
  {
   "attachments": {},
   "cell_type": "markdown",
   "metadata": {},
   "source": [
    "`Discrete(4)` implies that there are four kinds of actions can be taken by agent.\n",
    "- 0 implies the agent will not take any actions\n",
    "- 2 implies the agent will accelerate downward\n",
    "- 1, 3 implies the agent will accelerate left and right\n",
    "\n",
    "Next, we will try to make the agent interact with the environment. \n",
    "Before taking any actions, we recommend to call `reset()` function to reset the environment. Also, this function will return the initial state of the environment."
   ]
  },
  {
   "cell_type": "code",
   "execution_count": 7,
   "metadata": {},
   "outputs": [
    {
     "name": "stdout",
     "output_type": "stream",
     "text": [
      "[-0.00506535  1.413064   -0.5130838   0.09527162  0.00587628  0.11622101\n",
      "  0.          0.        ]\n"
     ]
    }
   ],
   "source": [
    "intial_state = env.reset()\n",
    "print(intial_state)"
   ]
  },
  {
   "attachments": {},
   "cell_type": "markdown",
   "metadata": {},
   "source": [
    "Then, we try to get a random action from the agent's action space."
   ]
  },
  {
   "cell_type": "code",
   "execution_count": 8,
   "metadata": {},
   "outputs": [
    {
     "name": "stdout",
     "output_type": "stream",
     "text": [
      "1\n"
     ]
    }
   ],
   "source": [
    "random_action = env.action_space.sample()\n",
    "print(random_action)"
   ]
  },
  {
   "attachments": {},
   "cell_type": "markdown",
   "metadata": {},
   "source": [
    "More, we can utilize `step()` to make agent act according to the randomly-selected `random_action`.\n",
    "The `step()` function will return four values:\n",
    "- observation / state\n",
    "- reward\n",
    "- done (True/ False)\n",
    "- Other information"
   ]
  },
  {
   "cell_type": "code",
   "execution_count": 9,
   "metadata": {},
   "outputs": [],
   "source": [
    "observation, reward, done, info = env.step(random_action)"
   ]
  },
  {
   "cell_type": "code",
   "execution_count": 10,
   "metadata": {},
   "outputs": [
    {
     "name": "stdout",
     "output_type": "stream",
     "text": [
      "False\n"
     ]
    }
   ],
   "source": [
    "print(done)"
   ]
  },
  {
   "attachments": {},
   "cell_type": "markdown",
   "metadata": {},
   "source": [
    "### Reward\n",
    "\n",
    "\n",
    "> Landing pad is always at coordinates (0,0). Coordinates are the first two numbers in state vector. Reward for moving from the top of the screen to landing pad and zero speed is about 100..140 points. If lander moves away from landing pad it loses reward back. Episode finishes if the lander crashes or comes to rest, receiving additional -100 or +100 points. Each leg ground contact is +10. Firing main engine is -0.3 points each frame. Solved is 200 points. "
   ]
  },
  {
   "cell_type": "code",
   "execution_count": 12,
   "metadata": {},
   "outputs": [
    {
     "name": "stdout",
     "output_type": "stream",
     "text": [
      "-1.4981841929643156\n"
     ]
    }
   ],
   "source": [
    "print(reward)"
   ]
  },
  {
   "attachments": {},
   "cell_type": "markdown",
   "metadata": {},
   "source": [
    "### Random Agent\n",
    "In the end, before we start training, we can see whether a random agent can successfully land the moon or not."
   ]
  },
  {
   "cell_type": "code",
   "execution_count": 13,
   "metadata": {},
   "outputs": [
    {
     "data": {
      "image/png": "[encoded data removed]",
      "text/plain": [
       "<Figure size 640x480 with 1 Axes>"
      ]
     },
     "metadata": {},
     "output_type": "display_data"
    }
   ],
   "source": [
    "env.reset()\n",
    "\n",
    "img = plt.imshow(env.render(mode='rgb_array'))\n",
    "\n",
    "done = False\n",
    "while not done:\n",
    "    action = env.action_space.sample()\n",
    "    observation, reward, done, _ = env.step(action)\n",
    "\n",
    "    img.set_data(env.render(mode='rgb_array'))\n",
    "    display.display(plt.gcf())\n",
    "    display.clear_output(wait=True)"
   ]
  },
  {
   "attachments": {},
   "cell_type": "markdown",
   "metadata": {},
   "source": [
    "## Policy Gradient\n",
    "Now, we can build a simple policy network. The network will return one of action in the action space."
   ]
  },
  {
   "cell_type": "code",
   "execution_count": null,
   "metadata": {},
   "outputs": [],
   "source": [
    "class PolicyGradientNetwork(nn.Module):\n",
    "    def __init__(self):\n",
    "        super.__init__()\n",
    "        self.fc1 = nn.Linear(8, 16)\n",
    "        self.fc2 = nn.Linear(16, 16)\n",
    "        self.fc3 = nn.Linear(16, 4)\n",
    "    \n",
    "    def forward(self, state):\n",
    "        hid = torch.tanh(self.fc1(state))\n",
    "        hid = torch.tanh(self.fc2(hid))\n",
    "        return F.softmax(hid, dim=1)"
   ]
  }
 ],
 "metadata": {
  "kernelspec": {
   "display_name": "ntu",
   "language": "python",
   "name": "python3"
  },
  "language_info": {
   "codemirror_mode": {
    "name": "ipython",
    "version": 3
   },
   "file_extension": ".py",
   "mimetype": "text/x-python",
   "name": "python",
   "nbconvert_exporter": "python",
   "pygments_lexer": "ipython3",
   "version": "3.10.11"
  },
  "orig_nbformat": 4
 },
 "nbformat": 4,
 "nbformat_minor": 2
}
