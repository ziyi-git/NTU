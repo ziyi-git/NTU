{
 "cells": [
  {
   "attachments": {},
   "cell_type": "markdown",
   "metadata": {},
   "source": [
    "# **Homework 7 - Bert (Question Answering)**\n",
    "\n",
    "If you have any questions, feel free to email us at ntu-ml-2023spring-ta@googlegroups.com\n",
    "\n",
    "\n",
    "\n",
    "Slide:    [Link](https://docs.google.com/presentation/d/15lGUmT8NpLGtoxRllRWCJyQEjhR1Idcei63YHsDckPE/edit#slide=id.g21fff4e9af6_0_13)　Kaggle: [Link](https://www.kaggle.com/competitions/ml2023spring-hw7/host/sandbox-submissions)　Data: [Link](https://drive.google.com/file/d/1YU9KZFhQqW92Lw9nNtuUPg0-8uyxluZ7/view?usp=sharing)"
   ]
  },
  {
   "attachments": {},
   "cell_type": "markdown",
   "metadata": {},
   "source": [
    "# Prerequisites"
   ]
  },
  {
   "attachments": {},
   "cell_type": "markdown",
   "metadata": {},
   "source": [
    "## Download Dataset"
   ]
  },
  {
   "cell_type": "code",
   "execution_count": 1,
   "metadata": {},
   "outputs": [
    {
     "name": "stdout",
     "output_type": "stream",
     "text": [
      "Archive:  hw7_data.zip\n",
      "  inflating: hw7_train.json          \n",
      "  inflating: hw7_test.json           \n",
      "  inflating: hw7_dev.json            \n",
      "  inflating: hw7_in-context-learning-examples.json  \n",
      "Sun May 28 00:08:04 2023       \n",
      "+-----------------------------------------------------------------------------+\n",
      "| NVIDIA-SMI 470.161.03   Driver Version: 470.161.03   CUDA Version: 11.4     |\n",
      "|-------------------------------+----------------------+----------------------+\n",
      "| GPU  Name        Persistence-M| Bus-Id        Disp.A | Volatile Uncorr. ECC |\n",
      "| Fan  Temp  Perf  Pwr:Usage/Cap|         Memory-Usage | GPU-Util  Compute M. |\n",
      "|                               |                      |               MIG M. |\n",
      "|===============================+======================+======================|\n",
      "|   0  Tesla T4            Off  | 00000000:00:03.0 Off |                    0 |\n",
      "| N/A   33C    P0    24W /  70W |      0MiB / 15109MiB |      0%      Default |\n",
      "|                               |                      |                  N/A |\n",
      "+-------------------------------+----------------------+----------------------+\n",
      "                                                                               \n",
      "+-----------------------------------------------------------------------------+\n",
      "| Processes:                                                                  |\n",
      "|  GPU   GI   CI        PID   Type   Process name                  GPU Memory |\n",
      "|        ID   ID                                                   Usage      |\n",
      "|=============================================================================|\n",
      "|  No running processes found                                                 |\n",
      "+-----------------------------------------------------------------------------+\n"
     ]
    }
   ],
   "source": [
    "# download link 1\n",
    "# !gdown --id '1TjoBdNlGBhP_J9C66MOY7ILIrydm7ZCS' --output hw7_data.zip\n",
    "\n",
    "# download link 2 (if above link failed)\n",
    "# !gdown --id '1YU9KZFhQqW92Lw9nNtuUPg0-8uyxluZ7' --output hw7_data.zip\n",
    "\n",
    "# download link 3 (if above link failed)\n",
    "# !gdown --id '1k2BfGrvhk8QRnr9Xvb04oPIKDr1uWFpa' --output hw7_data.zip\n",
    "\n",
    "!unzip -o hw7_data.zip\n",
    "\n",
    "# For this HW, K80 < P4 < T4 < P100 <= T4(fp16) < V100\n",
    "!nvidia-smi"
   ]
  },
  {
   "attachments": {},
   "cell_type": "markdown",
   "metadata": {},
   "source": []
  },
  {
   "attachments": {},
   "cell_type": "markdown",
   "metadata": {},
   "source": [
    "## Install packages\n",
    "\n",
    "Documentation for the toolkit: \n",
    "*   https://huggingface.co/transformers/\n",
    "*   https://huggingface.co/docs/accelerate/index\n",
    "\n"
   ]
  },
  {
   "cell_type": "code",
   "execution_count": 2,
   "metadata": {},
   "outputs": [
    {
     "name": "stdout",
     "output_type": "stream",
     "text": [
      "Looking in indexes: https://pypi.internal-mirrors.ucloud.cn/simple\n",
      "Requirement already satisfied: transformers==4.26.1 in /home/ubuntu/anaconda3/envs/ntu/lib/python3.10/site-packages (4.26.1)\n",
      "Requirement already satisfied: pyyaml>=5.1 in /home/ubuntu/anaconda3/envs/ntu/lib/python3.10/site-packages (from transformers==4.26.1) (6.0)\n",
      "Requirement already satisfied: huggingface-hub<1.0,>=0.11.0 in /home/ubuntu/anaconda3/envs/ntu/lib/python3.10/site-packages (from transformers==4.26.1) (0.14.1)\n",
      "Requirement already satisfied: tokenizers!=0.11.3,<0.14,>=0.11.1 in /home/ubuntu/anaconda3/envs/ntu/lib/python3.10/site-packages (from transformers==4.26.1) (0.13.3)\n",
      "Requirement already satisfied: filelock in /home/ubuntu/anaconda3/envs/ntu/lib/python3.10/site-packages (from transformers==4.26.1) (3.12.0)\n",
      "Requirement already satisfied: requests in /home/ubuntu/anaconda3/envs/ntu/lib/python3.10/site-packages (from transformers==4.26.1) (2.31.0)\n",
      "Requirement already satisfied: numpy>=1.17 in /home/ubuntu/anaconda3/envs/ntu/lib/python3.10/site-packages (from transformers==4.26.1) (1.24.3)\n",
      "Requirement already satisfied: tqdm>=4.27 in /home/ubuntu/anaconda3/envs/ntu/lib/python3.10/site-packages (from transformers==4.26.1) (4.65.0)\n",
      "Requirement already satisfied: packaging>=20.0 in /home/ubuntu/anaconda3/envs/ntu/lib/python3.10/site-packages (from transformers==4.26.1) (23.1)\n",
      "Requirement already satisfied: regex!=2019.12.17 in /home/ubuntu/anaconda3/envs/ntu/lib/python3.10/site-packages (from transformers==4.26.1) (2023.5.5)\n",
      "Requirement already satisfied: fsspec in /home/ubuntu/anaconda3/envs/ntu/lib/python3.10/site-packages (from huggingface-hub<1.0,>=0.11.0->transformers==4.26.1) (2023.5.0)\n",
      "Requirement already satisfied: typing-extensions>=3.7.4.3 in /home/ubuntu/anaconda3/envs/ntu/lib/python3.10/site-packages (from huggingface-hub<1.0,>=0.11.0->transformers==4.26.1) (4.6.1)\n",
      "Requirement already satisfied: certifi>=2017.4.17 in /home/ubuntu/anaconda3/envs/ntu/lib/python3.10/site-packages (from requests->transformers==4.26.1) (2023.5.7)\n",
      "Requirement already satisfied: urllib3<3,>=1.21.1 in /home/ubuntu/anaconda3/envs/ntu/lib/python3.10/site-packages (from requests->transformers==4.26.1) (2.0.2)\n",
      "Requirement already satisfied: idna<4,>=2.5 in /home/ubuntu/anaconda3/envs/ntu/lib/python3.10/site-packages (from requests->transformers==4.26.1) (3.4)\n",
      "Requirement already satisfied: charset-normalizer<4,>=2 in /home/ubuntu/anaconda3/envs/ntu/lib/python3.10/site-packages (from requests->transformers==4.26.1) (3.1.0)\n",
      "Requirement already satisfied: accelerate==0.16.0 in /home/ubuntu/anaconda3/envs/ntu/lib/python3.10/site-packages (0.16.0)\n",
      "Requirement already satisfied: pyyaml in /home/ubuntu/anaconda3/envs/ntu/lib/python3.10/site-packages (from accelerate==0.16.0) (6.0)\n",
      "Requirement already satisfied: torch>=1.4.0 in /home/ubuntu/anaconda3/envs/ntu/lib/python3.10/site-packages (from accelerate==0.16.0) (2.0.1)\n",
      "Requirement already satisfied: numpy>=1.17 in /home/ubuntu/anaconda3/envs/ntu/lib/python3.10/site-packages (from accelerate==0.16.0) (1.24.3)\n",
      "Requirement already satisfied: packaging>=20.0 in /home/ubuntu/anaconda3/envs/ntu/lib/python3.10/site-packages (from accelerate==0.16.0) (23.1)\n",
      "Requirement already satisfied: psutil in /home/ubuntu/anaconda3/envs/ntu/lib/python3.10/site-packages (from accelerate==0.16.0) (5.9.0)\n",
      "Requirement already satisfied: typing-extensions in /home/ubuntu/anaconda3/envs/ntu/lib/python3.10/site-packages (from torch>=1.4.0->accelerate==0.16.0) (4.6.1)\n",
      "Requirement already satisfied: nvidia-cufft-cu11==10.9.0.58 in /home/ubuntu/anaconda3/envs/ntu/lib/python3.10/site-packages (from torch>=1.4.0->accelerate==0.16.0) (10.9.0.58)\n",
      "Requirement already satisfied: nvidia-curand-cu11==10.2.10.91 in /home/ubuntu/anaconda3/envs/ntu/lib/python3.10/site-packages (from torch>=1.4.0->accelerate==0.16.0) (10.2.10.91)\n",
      "Requirement already satisfied: nvidia-cusparse-cu11==11.7.4.91 in /home/ubuntu/anaconda3/envs/ntu/lib/python3.10/site-packages (from torch>=1.4.0->accelerate==0.16.0) (11.7.4.91)\n",
      "Requirement already satisfied: sympy in /home/ubuntu/anaconda3/envs/ntu/lib/python3.10/site-packages (from torch>=1.4.0->accelerate==0.16.0) (1.12)\n",
      "Requirement already satisfied: filelock in /home/ubuntu/anaconda3/envs/ntu/lib/python3.10/site-packages (from torch>=1.4.0->accelerate==0.16.0) (3.12.0)\n",
      "Requirement already satisfied: nvidia-cublas-cu11==11.10.3.66 in /home/ubuntu/anaconda3/envs/ntu/lib/python3.10/site-packages (from torch>=1.4.0->accelerate==0.16.0) (11.10.3.66)\n",
      "Requirement already satisfied: nvidia-cuda-nvrtc-cu11==11.7.99 in /home/ubuntu/anaconda3/envs/ntu/lib/python3.10/site-packages (from torch>=1.4.0->accelerate==0.16.0) (11.7.99)\n",
      "Requirement already satisfied: nvidia-cusolver-cu11==11.4.0.1 in /home/ubuntu/anaconda3/envs/ntu/lib/python3.10/site-packages (from torch>=1.4.0->accelerate==0.16.0) (11.4.0.1)\n",
      "Requirement already satisfied: networkx in /home/ubuntu/anaconda3/envs/ntu/lib/python3.10/site-packages (from torch>=1.4.0->accelerate==0.16.0) (3.1)\n",
      "Requirement already satisfied: jinja2 in /home/ubuntu/anaconda3/envs/ntu/lib/python3.10/site-packages (from torch>=1.4.0->accelerate==0.16.0) (3.1.2)\n",
      "Requirement already satisfied: nvidia-cuda-cupti-cu11==11.7.101 in /home/ubuntu/anaconda3/envs/ntu/lib/python3.10/site-packages (from torch>=1.4.0->accelerate==0.16.0) (11.7.101)\n",
      "Requirement already satisfied: nvidia-nvtx-cu11==11.7.91 in /home/ubuntu/anaconda3/envs/ntu/lib/python3.10/site-packages (from torch>=1.4.0->accelerate==0.16.0) (11.7.91)\n",
      "Requirement already satisfied: nvidia-cudnn-cu11==8.5.0.96 in /home/ubuntu/anaconda3/envs/ntu/lib/python3.10/site-packages (from torch>=1.4.0->accelerate==0.16.0) (8.5.0.96)\n",
      "Requirement already satisfied: triton==2.0.0 in /home/ubuntu/anaconda3/envs/ntu/lib/python3.10/site-packages (from torch>=1.4.0->accelerate==0.16.0) (2.0.0)\n",
      "Requirement already satisfied: nvidia-cuda-runtime-cu11==11.7.99 in /home/ubuntu/anaconda3/envs/ntu/lib/python3.10/site-packages (from torch>=1.4.0->accelerate==0.16.0) (11.7.99)\n",
      "Requirement already satisfied: nvidia-nccl-cu11==2.14.3 in /home/ubuntu/anaconda3/envs/ntu/lib/python3.10/site-packages (from torch>=1.4.0->accelerate==0.16.0) (2.14.3)\n",
      "Requirement already satisfied: wheel in /home/ubuntu/anaconda3/envs/ntu/lib/python3.10/site-packages (from nvidia-cublas-cu11==11.10.3.66->torch>=1.4.0->accelerate==0.16.0) (0.38.4)\n",
      "Requirement already satisfied: setuptools in /home/ubuntu/anaconda3/envs/ntu/lib/python3.10/site-packages (from nvidia-cublas-cu11==11.10.3.66->torch>=1.4.0->accelerate==0.16.0) (66.0.0)\n",
      "Requirement already satisfied: lit in /home/ubuntu/anaconda3/envs/ntu/lib/python3.10/site-packages (from triton==2.0.0->torch>=1.4.0->accelerate==0.16.0) (16.0.5)\n",
      "Requirement already satisfied: cmake in /home/ubuntu/anaconda3/envs/ntu/lib/python3.10/site-packages (from triton==2.0.0->torch>=1.4.0->accelerate==0.16.0) (3.26.3)\n",
      "Requirement already satisfied: MarkupSafe>=2.0 in /home/ubuntu/anaconda3/envs/ntu/lib/python3.10/site-packages (from jinja2->torch>=1.4.0->accelerate==0.16.0) (2.1.2)\n",
      "Requirement already satisfied: mpmath>=0.19 in /home/ubuntu/anaconda3/envs/ntu/lib/python3.10/site-packages (from sympy->torch>=1.4.0->accelerate==0.16.0) (1.3.0)\n"
     ]
    }
   ],
   "source": [
    "# You are allowed to change version of transformers or use other toolkits\n",
    "!pip install transformers==4.26.1\n",
    "!pip install accelerate==0.16.0 -i https://pypi.org/simple"
   ]
  },
  {
   "attachments": {},
   "cell_type": "markdown",
   "metadata": {},
   "source": [
    "## Task description\n",
    "- Chinese Extractive Question Answering\n",
    "  - Input: Paragraph + Question\n",
    "  - Output: Answer\n",
    "\n",
    "- Objective: Learn how to fine tune a pretrained model on downstream task using transformers\n",
    "\n",
    "- Todo\n",
    "    - Fine tune a pretrained chinese BERT model\n",
    "    - Change hyperparameters (e.g. doc_stride)\n",
    "    - Apply linear learning rate decay\n",
    "    - Try other pretrained models\n",
    "    - Improve preprocessing\n",
    "    - Improve postprocessing\n",
    "- Training tips\n",
    "    - Automatic mixed precision\n",
    "    - Gradient accumulation\n",
    "    - Ensemble\n",
    "\n",
    "- Estimated training time (tesla t4 with automatic mixed precision enabled)\n",
    "    - Simple: 8mins\n",
    "    - Medium: 8mins\n",
    "    - Strong: 25mins\n",
    "    - Boss: 2hrs\n",
    "  "
   ]
  },
  {
   "cell_type": "code",
   "execution_count": 1,
   "metadata": {},
   "outputs": [
    {
     "name": "stderr",
     "output_type": "stream",
     "text": [
      "/home/ubuntu/anaconda3/envs/ntu/lib/python3.10/site-packages/tqdm/auto.py:21: TqdmWarning: IProgress not found. Please update jupyter and ipywidgets. See https://ipywidgets.readthedocs.io/en/stable/user_install.html\n",
      "  from .autonotebook import tqdm as notebook_tqdm\n"
     ]
    }
   ],
   "source": [
    "import json\n",
    "import numpy as np\n",
    "import random\n",
    "import torch\n",
    "from torch.utils.data import DataLoader, Dataset\n",
    "from transformers import AdamW\n",
    "\n",
    "from tqdm.auto import tqdm\n",
    "\n",
    "device = \"cuda\" if torch.cuda.is_available() else \"cpu\"\n",
    "\n",
    "def same_seeds(seed):\n",
    "    torch.manual_seed(seed)  # 生成CPU随机数的种子\n",
    "    if torch.cuda.is_available():\n",
    "        torch.cuda.manual_seed(seed)  # 确保GPU的随机数种子一致(CPU和GPU设备不一致)\n",
    "        torch.cuda.manual_seed_all(seed)  # 确保多个GPU的随机数种子一致\n",
    "    np.random.seed(seed)  \n",
    "    random.seed(seed)  # python内置的随机数种子\n",
    "    torch.backends.cudnn.benchmark = False  # 关闭cuDNN的自动优化，可能导致每次运行结果不一致\n",
    "    torch.backends.cudnn.deterministic = True  # 算子使用确定性算法\n",
    "same_seeds(2)"
   ]
  },
  {
   "attachments": {},
   "cell_type": "markdown",
   "metadata": {},
   "source": [
    "## Load Model and Tokenizer\n"
   ]
  },
  {
   "cell_type": "code",
   "execution_count": 16,
   "metadata": {},
   "outputs": [
    {
     "name": "stderr",
     "output_type": "stream",
     "text": [
      "Some weights of the model checkpoint at bert-base-chinese were not used when initializing BertForQuestionAnswering: ['cls.predictions.decoder.weight', 'cls.seq_relationship.bias', 'cls.predictions.transform.LayerNorm.weight', 'cls.seq_relationship.weight', 'cls.predictions.transform.LayerNorm.bias', 'cls.predictions.transform.dense.bias', 'cls.predictions.bias', 'cls.predictions.transform.dense.weight']\n",
      "- This IS expected if you are initializing BertForQuestionAnswering from the checkpoint of a model trained on another task or with another architecture (e.g. initializing a BertForSequenceClassification model from a BertForPreTraining model).\n",
      "- This IS NOT expected if you are initializing BertForQuestionAnswering from the checkpoint of a model that you expect to be exactly identical (initializing a BertForSequenceClassification model from a BertForSequenceClassification model).\n",
      "Some weights of BertForQuestionAnswering were not initialized from the model checkpoint at bert-base-chinese and are newly initialized: ['qa_outputs.bias', 'qa_outputs.weight']\n",
      "You should probably TRAIN this model on a down-stream task to be able to use it for predictions and inference.\n"
     ]
    }
   ],
   "source": [
    "from transformers import (\n",
    "  AutoTokenizer,\n",
    "  AutoModelForQuestionAnswering,\n",
    ")\n",
    "\n",
    "model = AutoModelForQuestionAnswering.from_pretrained(\"bert-base-chinese\").to(device)\n",
    "tokenizer = AutoTokenizer.from_pretrained(\"bert-base-chinese\")"
   ]
  },
  {
   "attachments": {},
   "cell_type": "markdown",
   "metadata": {},
   "source": [
    "## Read Data\n",
    "\n",
    "- Training set: 26918 QA pairs\n",
    "- Dev set: 2863  QA pairs\n",
    "- Test set: 3524  QA pairs\n",
    "\n",
    "- {train/dev/test}_questions:\t\n",
    "  - List of dicts with the following keys:\n",
    "   - id (int)\n",
    "   - paragraph_id (int)\n",
    "   - question_text (string)\n",
    "   - answer_text (string)\n",
    "   - answer_start (int)\n",
    "   - answer_end (int)\n",
    "- {train/dev/test}_paragraphs: \n",
    "  - List of strings\n",
    "  - paragraph_ids in questions correspond to indexs in paragraphs\n",
    "  - A paragraph may be used by several questions "
   ]
  },
  {
   "cell_type": "code",
   "execution_count": 3,
   "metadata": {},
   "outputs": [],
   "source": [
    "def read_data(file):\n",
    "    with open(file, \"r\", encoding=\"utf-8\") as reader:\n",
    "        data = json.load(reader)\n",
    "    return data[\"questions\"], data[\"paragraphs\"]\n",
    "\n",
    "train_questions, train_paragraphs = read_data(\"hw7_train.json\")\n",
    "dev_questions, dev_paragraphs = read_data(\"hw7_dev.json\")\n",
    "test_questions, test_paragraphs = read_data(\"hw7_test.json\")"
   ]
  },
  {
   "attachments": {},
   "cell_type": "markdown",
   "metadata": {},
   "source": [
    "## Tokenize Data"
   ]
  },
  {
   "attachments": {},
   "cell_type": "markdown",
   "metadata": {},
   "source": [
    "### 转换之后的数据示例\n",
    "\n",
    "```\n",
    "Q1 = \"喀麥隆住了超過多少的種族?\"\n",
    "Q2 = \"用稻草編出的人形有什麼作用？\"\n",
    "\n",
    "tokenizer([Q1, Q2])为如下:\n",
    "{\n",
    "    'input_ids': [\n",
    "        [101, 1584, 7930, 7384, 857, 749, 6631, 6882, 1914, 2208, 4638, 4934, 3184, 136, 102],\n",
    "        [101, 4500, 4940, 5770, 5226, 1139, 4638, 782, 2501, 3300, 784, 7938, 868, 4500, 8043, 102]\n",
    "    ], \n",
    "    'token_type_ids': [\n",
    "        [0, 0, 0, 0, 0, 0, 0, 0, 0, 0, 0, 0, 0, 0, 0],\n",
    "        [0, 0, 0, 0, 0, 0, 0, 0, 0, 0, 0, 0, 0, 0, 0, 0]\n",
    "    ],\n",
    "    'attention_mask': [\n",
    "        [1, 1, 1, 1, 1, 1, 1, 1, 1, 1, 1, 1, 1, 1, 1],\n",
    "        [1, 1, 1, 1, 1, 1, 1, 1, 1, 1, 1, 1, 1, 1, 1, 1]\n",
    "    ]\n",
    "}\n",
    "```"
   ]
  },
  {
   "cell_type": "code",
   "execution_count": 4,
   "metadata": {},
   "outputs": [
    {
     "name": "stderr",
     "output_type": "stream",
     "text": [
      "Token indices sequence length is longer than the specified maximum sequence length for this model (566 > 512). Running this sequence through the model will result in indexing errors\n"
     ]
    }
   ],
   "source": [
    "# add_special_token如[CLS], [SEP]会在QA_Dataset的__getitem__方法中添加\n",
    "\n",
    "train_questions_tokenized = tokenizer([train_question[\"question_text\"] for train_question in train_questions], add_special_tokens=False)\n",
    "dev_questions_tokenized = tokenizer([dev_question[\"question_text\"] for dev_question in dev_questions], add_special_tokens=False)\n",
    "test_questions_tokenized = tokenizer([test_question[\"question_text\"] for test_question in test_questions], add_special_tokens=False) \n",
    "\n",
    "train_paragraphs_tokenized = tokenizer(train_paragraphs, add_special_tokens=False)\n",
    "dev_paragraphs_tokenized = tokenizer(dev_paragraphs, add_special_tokens=False)\n",
    "test_paragraphs_tokenized = tokenizer(test_paragraphs, add_special_tokens=False)"
   ]
  },
  {
   "attachments": {},
   "cell_type": "markdown",
   "metadata": {},
   "source": [
    "## Dataset"
   ]
  },
  {
   "cell_type": "code",
   "execution_count": 5,
   "metadata": {},
   "outputs": [],
   "source": [
    "class QA_Dataset(Dataset):\n",
    "    def __init__(self, split, questions, tokenized_questions, tokenized_paragraphs):\n",
    "        self.split = split  # \"train\", \"dev\", \"test\"指代不同的数据集\n",
    "        self.questions = questions\n",
    "        self.tokenized_questions = tokenized_questions\n",
    "        self.tokenized_paragraphs = tokenized_paragraphs\n",
    "        self.max_question_len = 60\n",
    "        self.max_paragraph_len = 150\n",
    "\n",
    "        # 段落和问题的组合过长时要求切分窗口，doc_stride为窗口滑动距离\n",
    "        # 真实段落300个token，max_paragraph_len为150个token\n",
    "        # doc_stride为75个token，则真实段落会被切分为3个窗口\n",
    "        self.doc_stride = 150\n",
    "\n",
    "        # Input sequence length = [CLS] + question + [SEP] + paragraph + [SEP]\n",
    "        # 输入到模型的最大长度，由问题和段落组合，CLS包含了用于预测的隐含语意，SEP区分问题和段落的间隔\n",
    "        self.max_seq_len = 1 + self.max_question_len + 1 + self.max_paragraph_len + 1\n",
    "\n",
    "    def __len__(self):\n",
    "        return len(self.questions)\n",
    "    \n",
    "    def __getitem__(self, idx):\n",
    "        question = self.questions[idx]\n",
    "        tokenized_question = self.tokenized_questions[idx]\n",
    "        tokenized_paragraph = self.tokenized_paragraphs[question[\"paragraph_id\"]]\n",
    "\n",
    "        if self.split == \"train\":\n",
    "            # answer_start_token和question[\"answer_start\"]都是int类型，但是转换前后数字不一致?\n",
    "            answer_start_token = tokenized_paragraph.char_to_token(question[\"answer_start\"])\n",
    "            answer_end_token = tokenized_paragraph.char_to_token(question[\"answer_end\"])\n",
    "\n",
    "            # paragraph_start是指切分窗口的起始位置\n",
    "            # 1. min(..., ...)当答案太靠后时确保paragraph_start + self.max_paragraph_len不会超过真实段落的结尾，\n",
    "            #    - mid - self.max_paragraph_len // 2是在答案中心处往前推1/2个max_paragraph_len确定paragraph_start\n",
    "            #    - 当答案在真实段落中靠后时可能导致paragraph_end超出真实段落结尾。因此加上len(tokenized_paragraph) - self.\n",
    "            #    - max_paragraph_len与其比较确定一个更靠前的值作为paragraph_start\n",
    "            # 2. min(..., ...)都小于0时，max(0, ...)将paragraph_start设为0，那么真实段落中多出的部分会被截掉\n",
    "            mid = (answer_start_token + answer_end_token) // 2\n",
    "            paragraph_start = max(0, min(mid - self.max_paragraph_len // 2, len(tokenized_paragraph) - self.max_paragraph_len))\n",
    "            paragraph_end = paragraph_start + self.max_paragraph_len\n",
    "\n",
    "            # 101: CLS, 102:SEP\n",
    "            input_ids_question = [101] + tokenized_question.ids[:self.max_question_len] + [102]\n",
    "            input_ids_paragraph = tokenized_paragraph.ids[paragraph_start:paragraph_end] + [102]\n",
    "\n",
    "            # anwer_start_token是答案在真实段落中的起始位置\n",
    "            # anwer_start_token + len(input_ids_question)是答案在输入序列（问题+段落）中的起始位置\n",
    "            # anwer_start_token + len(input_ids_question) - paragraph_start是答案在输入序列中的起始位置\n",
    "            answer_start_token += len(input_ids_question) - paragraph_start\n",
    "            answer_end_token += len(input_ids_question) - paragraph_start\n",
    "\n",
    "            # 将问题和段落组合，最大长度为self.max_seq_len\n",
    "            # input_ids：所有token的id，不足self.max_seq_len填充0\n",
    "            # token_type_ids：问题部分0，段落部分1，不足self.max_seq_len填充0\n",
    "            # 不足而导致的填充部分为0，实际内容部分为1，表示注意实际内容部分\n",
    "            input_ids, token_type_ids, attention_mask = self.padding(input_ids_question, input_ids_paragraph)\n",
    "            \n",
    "            return torch.tensor(input_ids), torch.tensor(token_type_ids), torch.tensor(attention_mask), answer_start_token, answer_end_token\n",
    "        else:\n",
    "            # 每次取一个问题和一个真实段落：\n",
    "            # [问题 + 窗口1， 问题 + 窗口2, 问题 + 窗口3, ...]\n",
    "            # dev/test的数据结构\n",
    "            # 第一层：data -> [data_0, data_1, data_2, ...]\n",
    "            # 第二层：data[0] -> [[input_ids_list_0, input_ids_list_1, ...], \n",
    "            #                    [token_type_ids_list_0, token_type_ids_list_1, ...],\n",
    "            #                    [attention_mask_list_0, attention_mask_list_1, ...]] 矩阵\n",
    "            # data[0]和data[1]中的矩阵维度可能不一样，取决于窗口数目\n",
    "            # data[0][0]是所有的input_ids\n",
    "            # data[0][0][0]是第0个input_ids\n",
    "            # data[0][0][0][answer_start_token:answer_end_token]是答案的位置\n",
    "            # dev/test取数据和train不同，train仅取1个窗口，而dev/test会取多个窗口构成list:\n",
    "            # input_ids_list: \n",
    "            input_ids_list, token_type_ids_list, attention_mask_list = [], [], []\n",
    "\n",
    "            for i in range(0, len(tokenized_paragraph), self.doc_stride):\n",
    "                input_ids_question = [101] + tokenized_question.ids[:self.max_question_len] + [102]\n",
    "                input_ids_paragraph = tokenized_paragraph.ids[i:i+self.max_paragraph_len] + [102]\n",
    "\n",
    "                input_ids, token_type_ids, attention_mask = self.padding(input_ids_question, input_ids_paragraph)\n",
    "\n",
    "                input_ids_list.append(input_ids)\n",
    "                token_type_ids_list.append(token_type_ids)\n",
    "                attention_mask_list.append(attention_mask)\n",
    "            \n",
    "            # 注意返回的是一个[torch.tensor(input_ids_list), torch.tensor(token_type_ids_list), torch.tensor(attention_mask_list)]的列表\n",
    "            return torch.tensor(input_ids_list), torch.tensor(token_type_ids_list), torch.tensor(attention_mask_list)\n",
    "    \n",
    "    def padding(self, input_ids_question, input_ids_paragraph):\n",
    "        padding_len = self.max_seq_len - len(input_ids_question) - len(input_ids_paragraph)\n",
    "        input_ids = input_ids_question + input_ids_paragraph + [0] * padding_len\n",
    "        token_type_ids = [0] * len(input_ids_question) + [1] * len(input_ids_paragraph) + [0] * padding_len\n",
    "        attention_mask = [1] * (len(input_ids_question) + len(input_ids_paragraph)) + [0] * padding_len\n",
    "\n",
    "        return input_ids, token_type_ids, attention_mask\n",
    "\n",
    "train_set = QA_Dataset(\"train\", train_questions, train_questions_tokenized, train_paragraphs_tokenized)\n",
    "dev_set = QA_Dataset(\"dev\", dev_questions, dev_questions_tokenized, dev_paragraphs_tokenized)\n",
    "test_set = QA_Dataset(\"test\", test_questions, test_questions_tokenized, test_paragraphs_tokenized)"
   ]
  },
  {
   "attachments": {},
   "cell_type": "markdown",
   "metadata": {},
   "source": [
    "## Function for Evaluation"
   ]
  },
  {
   "cell_type": "code",
   "execution_count": 9,
   "metadata": {},
   "outputs": [],
   "source": [
    "def evaluate(data, output):\n",
    "    answer = \"\"\n",
    "    max_prob = float(\"-inf\")\n",
    "    num_of_windows = data[0].shape[1]\n",
    "\n",
    "    for k in range(num_of_windows):\n",
    "        # output.start_logits[k]包含第k个窗口中每个token作为起始位置的概率\n",
    "        # output.end_logits[k]包含第k个窗口中每个token作为结束位置的概率\n",
    "        start_prob, start_index = torch.max(output.start_logits[k], dim=0)\n",
    "        end_prob, end_index = torch.max(output.end_logits[k], dim=0)\n",
    "\n",
    "        prob = start_prob + end_prob\n",
    "\n",
    "        if prob > max_prob:\n",
    "            max_prob = prob\n",
    "            # 解释data[0][0][k][start_index:end_index+1]:\n",
    "            # QA_Dataset对于dev/test数据集返回的是一个长度为1的list:\n",
    "            # [tensor(input_ids_list), tensor(token_type_ids_list), tensor(attention_mask_list)]\n",
    "            # data[0] -> tensor([batch_size, num_windows, self.max_seq_len])\n",
    "            # data[1] -> tensor([batch_size, num_windows, self.max_seq_len])\n",
    "            # data[2] -> tensor([batch_size, num_windows, self.max_seq_len])\n",
    "            answer = tokenizer.decode(data[0][0][k][start_index:end_index+1])\n",
    "        \n",
    "    return answer.replace(' ', '')\n",
    "            "
   ]
  },
  {
   "attachments": {},
   "cell_type": "markdown",
   "metadata": {},
   "source": [
    "## Training"
   ]
  },
  {
   "cell_type": "code",
   "execution_count": 17,
   "metadata": {},
   "outputs": [
    {
     "name": "stdout",
     "output_type": "stream",
     "text": [
      "<class 'int'> 3364\n",
      "Start training ...\n"
     ]
    },
    {
     "name": "stderr",
     "output_type": "stream",
     "text": [
      "  3%|▎         | 99/3365 [00:12<08:05,  6.73it/s]"
     ]
    },
    {
     "name": "stdout",
     "output_type": "stream",
     "text": [
      "Epoch 1 | Step 100 | loss = 5.174, acc = 0.001\n"
     ]
    },
    {
     "name": "stderr",
     "output_type": "stream",
     "text": [
      "  6%|▌         | 199/3365 [00:24<08:06,  6.50it/s]"
     ]
    },
    {
     "name": "stdout",
     "output_type": "stream",
     "text": [
      "Epoch 1 | Step 200 | loss = 4.776, acc = 0.010\n"
     ]
    },
    {
     "name": "stderr",
     "output_type": "stream",
     "text": [
      "  9%|▉         | 299/3365 [00:36<07:57,  6.42it/s]"
     ]
    },
    {
     "name": "stdout",
     "output_type": "stream",
     "text": [
      "Epoch 1 | Step 300 | loss = 4.303, acc = 0.011\n"
     ]
    },
    {
     "name": "stderr",
     "output_type": "stream",
     "text": [
      " 12%|█▏        | 399/3365 [00:49<07:57,  6.21it/s]"
     ]
    },
    {
     "name": "stdout",
     "output_type": "stream",
     "text": [
      "Epoch 1 | Step 400 | loss = 3.807, acc = 0.050\n"
     ]
    },
    {
     "name": "stderr",
     "output_type": "stream",
     "text": [
      " 15%|█▍        | 499/3365 [01:01<07:10,  6.66it/s]"
     ]
    },
    {
     "name": "stdout",
     "output_type": "stream",
     "text": [
      "Epoch 1 | Step 500 | loss = 3.368, acc = 0.101\n"
     ]
    },
    {
     "name": "stderr",
     "output_type": "stream",
     "text": [
      " 18%|█▊        | 599/3365 [01:14<07:07,  6.47it/s]"
     ]
    },
    {
     "name": "stdout",
     "output_type": "stream",
     "text": [
      "Epoch 1 | Step 600 | loss = 2.997, acc = 0.145\n"
     ]
    },
    {
     "name": "stderr",
     "output_type": "stream",
     "text": [
      " 21%|██        | 699/3365 [01:26<06:56,  6.40it/s]"
     ]
    },
    {
     "name": "stdout",
     "output_type": "stream",
     "text": [
      "Epoch 1 | Step 700 | loss = 2.672, acc = 0.186\n"
     ]
    },
    {
     "name": "stderr",
     "output_type": "stream",
     "text": [
      " 24%|██▎       | 799/3365 [01:38<06:41,  6.39it/s]"
     ]
    },
    {
     "name": "stdout",
     "output_type": "stream",
     "text": [
      "Epoch 1 | Step 800 | loss = 2.442, acc = 0.220\n"
     ]
    },
    {
     "name": "stderr",
     "output_type": "stream",
     "text": [
      " 27%|██▋       | 899/3365 [01:51<06:10,  6.65it/s]"
     ]
    },
    {
     "name": "stdout",
     "output_type": "stream",
     "text": [
      "Epoch 1 | Step 900 | loss = 2.233, acc = 0.262\n"
     ]
    },
    {
     "name": "stderr",
     "output_type": "stream",
     "text": [
      " 30%|██▉       | 999/3365 [02:03<06:06,  6.46it/s]"
     ]
    },
    {
     "name": "stdout",
     "output_type": "stream",
     "text": [
      "Epoch 1 | Step 1000 | loss = 2.089, acc = 0.276\n"
     ]
    },
    {
     "name": "stderr",
     "output_type": "stream",
     "text": [
      " 33%|███▎      | 1099/3365 [02:16<05:53,  6.40it/s]"
     ]
    },
    {
     "name": "stdout",
     "output_type": "stream",
     "text": [
      "Epoch 1 | Step 1100 | loss = 1.980, acc = 0.294\n"
     ]
    },
    {
     "name": "stderr",
     "output_type": "stream",
     "text": [
      " 36%|███▌      | 1199/3365 [02:28<05:38,  6.40it/s]"
     ]
    },
    {
     "name": "stdout",
     "output_type": "stream",
     "text": [
      "Epoch 1 | Step 1200 | loss = 1.919, acc = 0.338\n"
     ]
    },
    {
     "name": "stderr",
     "output_type": "stream",
     "text": [
      " 39%|███▊      | 1299/3365 [02:41<05:12,  6.61it/s]"
     ]
    },
    {
     "name": "stdout",
     "output_type": "stream",
     "text": [
      "Epoch 1 | Step 1300 | loss = 1.793, acc = 0.335\n"
     ]
    },
    {
     "name": "stderr",
     "output_type": "stream",
     "text": [
      " 42%|████▏     | 1399/3365 [02:53<05:04,  6.46it/s]"
     ]
    },
    {
     "name": "stdout",
     "output_type": "stream",
     "text": [
      "Epoch 1 | Step 1400 | loss = 1.745, acc = 0.394\n"
     ]
    },
    {
     "name": "stderr",
     "output_type": "stream",
     "text": [
      " 45%|████▍     | 1499/3365 [03:06<04:51,  6.40it/s]"
     ]
    },
    {
     "name": "stdout",
     "output_type": "stream",
     "text": [
      "Epoch 1 | Step 1500 | loss = 1.685, acc = 0.394\n"
     ]
    },
    {
     "name": "stderr",
     "output_type": "stream",
     "text": [
      " 48%|████▊     | 1599/3365 [03:18<04:37,  6.37it/s]"
     ]
    },
    {
     "name": "stdout",
     "output_type": "stream",
     "text": [
      "Epoch 1 | Step 1600 | loss = 1.722, acc = 0.386\n"
     ]
    },
    {
     "name": "stderr",
     "output_type": "stream",
     "text": [
      " 50%|█████     | 1699/3365 [03:31<04:11,  6.61it/s]"
     ]
    },
    {
     "name": "stdout",
     "output_type": "stream",
     "text": [
      "Epoch 1 | Step 1700 | loss = 1.676, acc = 0.405\n"
     ]
    },
    {
     "name": "stderr",
     "output_type": "stream",
     "text": [
      " 53%|█████▎    | 1799/3365 [03:43<04:04,  6.41it/s]"
     ]
    },
    {
     "name": "stdout",
     "output_type": "stream",
     "text": [
      "Epoch 1 | Step 1800 | loss = 1.569, acc = 0.431\n"
     ]
    },
    {
     "name": "stderr",
     "output_type": "stream",
     "text": [
      " 56%|█████▋    | 1899/3365 [03:56<03:50,  6.36it/s]"
     ]
    },
    {
     "name": "stdout",
     "output_type": "stream",
     "text": [
      "Epoch 1 | Step 1900 | loss = 1.507, acc = 0.438\n"
     ]
    },
    {
     "name": "stderr",
     "output_type": "stream",
     "text": [
      " 59%|█████▉    | 1999/3365 [04:08<03:34,  6.38it/s]"
     ]
    },
    {
     "name": "stdout",
     "output_type": "stream",
     "text": [
      "Epoch 1 | Step 2000 | loss = 1.550, acc = 0.449\n"
     ]
    },
    {
     "name": "stderr",
     "output_type": "stream",
     "text": [
      " 62%|██████▏   | 2099/3365 [04:21<03:12,  6.58it/s]"
     ]
    },
    {
     "name": "stdout",
     "output_type": "stream",
     "text": [
      "Epoch 1 | Step 2100 | loss = 1.402, acc = 0.485\n"
     ]
    },
    {
     "name": "stderr",
     "output_type": "stream",
     "text": [
      " 65%|██████▌   | 2199/3365 [04:33<03:00,  6.44it/s]"
     ]
    },
    {
     "name": "stdout",
     "output_type": "stream",
     "text": [
      "Epoch 1 | Step 2200 | loss = 1.402, acc = 0.480\n"
     ]
    },
    {
     "name": "stderr",
     "output_type": "stream",
     "text": [
      " 68%|██████▊   | 2299/3365 [04:46<02:47,  6.37it/s]"
     ]
    },
    {
     "name": "stdout",
     "output_type": "stream",
     "text": [
      "Epoch 1 | Step 2300 | loss = 1.452, acc = 0.471\n"
     ]
    },
    {
     "name": "stderr",
     "output_type": "stream",
     "text": [
      " 71%|███████▏  | 2399/3365 [04:58<02:32,  6.34it/s]"
     ]
    },
    {
     "name": "stdout",
     "output_type": "stream",
     "text": [
      "Epoch 1 | Step 2400 | loss = 1.403, acc = 0.477\n"
     ]
    },
    {
     "name": "stderr",
     "output_type": "stream",
     "text": [
      " 74%|███████▍  | 2499/3365 [05:11<02:12,  6.55it/s]"
     ]
    },
    {
     "name": "stdout",
     "output_type": "stream",
     "text": [
      "Epoch 1 | Step 2500 | loss = 1.486, acc = 0.456\n"
     ]
    },
    {
     "name": "stderr",
     "output_type": "stream",
     "text": [
      " 77%|███████▋  | 2599/3365 [05:23<01:59,  6.40it/s]"
     ]
    },
    {
     "name": "stdout",
     "output_type": "stream",
     "text": [
      "Epoch 1 | Step 2600 | loss = 1.356, acc = 0.501\n"
     ]
    },
    {
     "name": "stderr",
     "output_type": "stream",
     "text": [
      " 80%|████████  | 2699/3365 [05:36<01:49,  6.07it/s]"
     ]
    },
    {
     "name": "stdout",
     "output_type": "stream",
     "text": [
      "Epoch 1 | Step 2700 | loss = 1.301, acc = 0.522\n"
     ]
    },
    {
     "name": "stderr",
     "output_type": "stream",
     "text": [
      " 83%|████████▎ | 2799/3365 [05:48<01:28,  6.36it/s]"
     ]
    },
    {
     "name": "stdout",
     "output_type": "stream",
     "text": [
      "Epoch 1 | Step 2800 | loss = 1.338, acc = 0.514\n"
     ]
    },
    {
     "name": "stderr",
     "output_type": "stream",
     "text": [
      " 86%|████████▌ | 2899/3365 [06:01<01:09,  6.72it/s]"
     ]
    },
    {
     "name": "stdout",
     "output_type": "stream",
     "text": [
      "Epoch 1 | Step 2900 | loss = 1.335, acc = 0.530\n"
     ]
    },
    {
     "name": "stderr",
     "output_type": "stream",
     "text": [
      " 89%|████████▉ | 2999/3365 [06:13<00:55,  6.59it/s]"
     ]
    },
    {
     "name": "stdout",
     "output_type": "stream",
     "text": [
      "Epoch 1 | Step 3000 | loss = 1.291, acc = 0.516\n"
     ]
    },
    {
     "name": "stderr",
     "output_type": "stream",
     "text": [
      " 92%|█████████▏| 3099/3365 [06:26<00:40,  6.53it/s]"
     ]
    },
    {
     "name": "stdout",
     "output_type": "stream",
     "text": [
      "Epoch 1 | Step 3100 | loss = 1.217, acc = 0.512\n"
     ]
    },
    {
     "name": "stderr",
     "output_type": "stream",
     "text": [
      " 95%|█████████▌| 3199/3365 [06:38<00:25,  6.49it/s]"
     ]
    },
    {
     "name": "stdout",
     "output_type": "stream",
     "text": [
      "Epoch 1 | Step 3200 | loss = 1.277, acc = 0.524\n"
     ]
    },
    {
     "name": "stderr",
     "output_type": "stream",
     "text": [
      " 98%|█████████▊| 3299/3365 [06:51<00:10,  6.59it/s]"
     ]
    },
    {
     "name": "stdout",
     "output_type": "stream",
     "text": [
      "Epoch 1 | Step 3300 | loss = 1.333, acc = 0.504\n"
     ]
    },
    {
     "name": "stderr",
     "output_type": "stream",
     "text": [
      "100%|██████████| 3365/3365 [06:59<00:00,  8.02it/s]\n"
     ]
    },
    {
     "name": "stdout",
     "output_type": "stream",
     "text": [
      "Evaluating Dev Set ...\n"
     ]
    },
    {
     "name": "stderr",
     "output_type": "stream",
     "text": [
      "100%|██████████| 2863/2863 [00:57<00:00, 49.74it/s]\n"
     ]
    },
    {
     "name": "stdout",
     "output_type": "stream",
     "text": [
      "Validation | Epoch 1 | acc = 0.468\n",
      "Saving Model ...\n"
     ]
    }
   ],
   "source": [
    "from accelerate import Accelerator\n",
    "\n",
    "# hyperparameters\n",
    "num_epoch = 1\n",
    "validation = True\n",
    "logging_step = 100\n",
    "learning_rate = 1e-5\n",
    "optimizer = AdamW(model.parameters(), lr=learning_rate)\n",
    "train_batch_size = 8\n",
    "\n",
    "gradient_accumulation_steps = 16\n",
    "\n",
    "from torch.optim import lr_scheduler\n",
    "total_steps = len(train_set) // train_batch_size\n",
    "print(type(total_steps), total_steps)\n",
    "lambda1 = lambda step: 1 - step / total_steps\n",
    "scheduler = lr_scheduler.LambdaLR(optimizer, lr_lambda=lambda1)\n",
    "\n",
    "# pin_memory的作用是让CPU可以在每次从内存中的固定位置将数据加载至GPU，可加快CPU到GPU的数据转移速度\n",
    "train_loader = DataLoader(train_set, batch_size=train_batch_size, shuffle=True, pin_memory=True)\n",
    "dev_loader = DataLoader(dev_set, batch_size=1, shuffle=False, pin_memory=False)\n",
    "test_loader = DataLoader(test_set, batch_size=1, shuffle=False, pin_memory=True)\n",
    "\n",
    "fp16_training = True\n",
    "if fp16_training:\n",
    "    accelerator = Accelerator(mixed_precision=\"fp16\", gradient_accumulation_steps=gradient_accumulation_steps)\n",
    "else:\n",
    "    accelerator = Accelerator(gradient_accumulation_steps=gradient_accumulation_steps)\n",
    "\n",
    "model, optimizer, train_loader = accelerator.prepare(model, optimizer, train_loader)\n",
    "\n",
    "model.train()\n",
    "\n",
    "print(\"Start training ...\")\n",
    "\n",
    "for epoch in range(num_epoch):\n",
    "    step = 1\n",
    "    train_loss = train_acc = 0\n",
    "\n",
    "    # train_loader随机从train_set中抽取8组数据构成data\n",
    "    # data[0]: [8, self.max_seq_len] -> input_ids\n",
    "    # data[1]: [8, self.max_seq_len] -> token_type_ids\n",
    "    # data[2]: [8, self.max_seq_len] -> attention_mask\n",
    "    # data[3]: [8] -> answer_start_token\n",
    "    # data[4]: [8] -> answer_end_token\n",
    "    # output:\n",
    "    # output.start_logits: [8, self.max_seq_len] -> 答案起始位置\n",
    "    # output.end_logits: [8, self.max_seq_len] -> 答案结束位置\n",
    "    for data in tqdm(train_loader):\n",
    "        with accelerator.accumulate(model):\n",
    "            data = [i.to(device) for i in data]\n",
    "\n",
    "            output = model(input_ids=data[0], token_type_ids=data[1], attention_mask=data[2], start_positions=data[3], end_positions=data[4])\n",
    "\n",
    "            start_index = torch.argmax(output.start_logits, dim=1)\n",
    "            end_index = torch.argmax(output.end_logits, dim=1)\n",
    "\n",
    "            train_acc += ((start_index == data[3]) & (end_index == data[4])).float().mean()\n",
    "\n",
    "            train_loss += output.loss\n",
    "\n",
    "            # 计算梯度\n",
    "            accelerator.backward(output.loss)\n",
    "\n",
    "            step += 1\n",
    "            # 更新梯度\n",
    "            optimizer.step()\n",
    "            # 将保存梯度的矩阵清零，避免下次被累加\n",
    "            optimizer.zero_grad()\n",
    "\n",
    "            # 更新学习率\n",
    "            scheduler.step()\n",
    "\n",
    "            if step % logging_step == 0:\n",
    "                print(f\"Epoch {epoch + 1} | Step {step} | loss = {train_loss.item() / logging_step:.3f}, acc = {train_acc / logging_step:.3f}\")\n",
    "                train_loss = train_acc = 0\n",
    "    \n",
    "    if validation:\n",
    "        print(\"Evaluating Dev Set ...\")\n",
    "        model.eval()\n",
    "        with torch.no_grad():\n",
    "            dev_acc = 0\n",
    "            for i, data in enumerate(tqdm(dev_loader)):\n",
    "                # QA_Dataset对于dev/test数据集返回的是一个长度为1的list:\n",
    "                # [tensor(input_ids_list), tensor(token_type_ids_list), tensor(attention_mask_list)]\n",
    "                # data[0] -> tensor([batch_size, num_windows, self.max_seq_len])\n",
    "                # data[1] -> tensor([batch_size, num_windows, self.max_seq_len])\n",
    "                # data[2] -> tensor([batch_size, num_windows, self.max_seq_len])\n",
    "                # 注意: 由于单个input的维度是[1, self.max_seq_len]，所以一个batch的维度应为[batch_size, self.max_seq_len]\n",
    "                # 因此采用squeeze(dim=0)压缩维度\n",
    "                output = model(input_ids=data[0].squeeze(dim=0).to(device),\n",
    "                               token_type_ids=data[1].squeeze(dim=0).to(device),\n",
    "                               attention_mask=data[2].squeeze(dim=0).to(device))\n",
    "                dev_acc += evaluate(data, output) == dev_questions[i][\"answer_text\"]\n",
    "            print(f\"Validation | Epoch {epoch + 1} | acc = {dev_acc / len(dev_loader):.3f}\")\n",
    "        model.train()\n",
    "\n",
    "print(\"Saving Model ...\")\n",
    "model_save_dir = \"saved_model\"\n",
    "model.save_pretrained(model_save_dir)\n"
   ]
  },
  {
   "attachments": {},
   "cell_type": "markdown",
   "metadata": {},
   "source": [
    "## Testing"
   ]
  },
  {
   "cell_type": "code",
   "execution_count": 10,
   "metadata": {},
   "outputs": [
    {
     "name": "stdout",
     "output_type": "stream",
     "text": [
      "Evaluating Test Set ...\n"
     ]
    },
    {
     "name": "stderr",
     "output_type": "stream",
     "text": [
      "100%|██████████| 3524/3524 [01:11<00:00, 49.01it/s]"
     ]
    },
    {
     "name": "stdout",
     "output_type": "stream",
     "text": [
      "Completed! Result is in result.csv\n"
     ]
    },
    {
     "name": "stderr",
     "output_type": "stream",
     "text": [
      "\n"
     ]
    }
   ],
   "source": [
    "print(\"Evaluating Test Set ...\")\n",
    "\n",
    "result = []\n",
    "\n",
    "model.eval()\n",
    "with torch.no_grad():\n",
    "    for data in tqdm(test_loader):\n",
    "        output = model(input_ids=data[0].squeeze(dim=0).to(device),\n",
    "                       token_type_ids=data[1].squeeze(dim=0).to(device),\n",
    "                       attention_mask=data[2].squeeze(dim=0).to(device))\n",
    "        result.append(evaluate(data, output))\n",
    "\n",
    "result_file = \"result.csv\"\n",
    "with open(result_file, 'w') as f:\t\n",
    "    f.write(\"ID,Answer\\n\")\n",
    "    for i, test_question in enumerate(test_questions):\n",
    "    # Replace commas in answers with empty strings (since csv is separated by comma)\n",
    "    # Answers in kaggle are processed in the same way\n",
    "        f.write(f\"{test_question['id']},{result[i].replace(',','')}\\n\")\n",
    "\n",
    "print(f\"Completed! Result is in {result_file}\")"
   ]
  },
  {
   "attachments": {},
   "cell_type": "markdown",
   "metadata": {},
   "source": [
    "# GradeScope - Question 2 (In-context learning)"
   ]
  },
  {
   "attachments": {},
   "cell_type": "markdown",
   "metadata": {},
   "source": [
    "### In-context learning\n",
    "The example prompt is :\n",
    "```\n",
    "請從最後一篇的文章中找出最後一個問題的答案：\n",
    "文章：<文章1 內容>\n",
    "問題：<問題1 敘述>\n",
    "答案：<答案1>\n",
    "...\n",
    "文章：<文章n 內容>\n",
    "問題：<問題n 敘述>\n",
    "答案：\n",
    "```"
   ]
  },
  {
   "cell_type": "code",
   "execution_count": 1,
   "metadata": {},
   "outputs": [],
   "source": [
    "import torch\n",
    "import random\n",
    "import numpy as np\n",
    "\n",
    "# To avoid CUDA_OUT_OF_MEMORY\n",
    "# 意思是在创建新张量时如果没有制定数据类型，则默认为32位浮点数\n",
    "# \n",
    "torch.set_default_tensor_type(torch.cuda.FloatTensor)\n",
    "\n",
    "# Fix random seed for reproducibility\n",
    "def same_seeds(seed):\n",
    "\ttorch.manual_seed(seed)\n",
    "\tif torch.cuda.is_available():\n",
    "\t\t\ttorch.cuda.manual_seed(seed)\n",
    "\t\t\ttorch.cuda.manual_seed_all(seed)\n",
    "\tnp.random.seed(seed)\n",
    "\trandom.seed(seed)\n",
    "\ttorch.backends.cudnn.benchmark = False\n",
    "\ttorch.backends.cudnn.deterministic = True\n",
    "same_seeds(2)"
   ]
  },
  {
   "cell_type": "code",
   "execution_count": 2,
   "metadata": {},
   "outputs": [
    {
     "name": "stderr",
     "output_type": "stream",
     "text": [
      "/home/ubuntu/anaconda3/envs/ntu/lib/python3.10/site-packages/tqdm/auto.py:21: TqdmWarning: IProgress not found. Please update jupyter and ipywidgets. See https://ipywidgets.readthedocs.io/en/stable/user_install.html\n",
      "  from .autonotebook import tqdm as notebook_tqdm\n"
     ]
    }
   ],
   "source": [
    "from transformers import AutoTokenizer, AutoModelForCausalLM\n",
    "\n",
    "tokenizer = AutoTokenizer.from_pretrained(\"facebook/xglm-1.7B\")\n",
    "model = AutoModelForCausalLM.from_pretrained(\"facebook/xglm-1.7B\")"
   ]
  },
  {
   "cell_type": "code",
   "execution_count": 3,
   "metadata": {},
   "outputs": [],
   "source": [
    "def clean_text(text):\n",
    "    text = text.split(\"答案:\")[-1]\n",
    "    text = text.split(\" \")[0]\n",
    "    return text"
   ]
  },
  {
   "cell_type": "code",
   "execution_count": 4,
   "metadata": {},
   "outputs": [
    {
     "name": "stdout",
     "output_type": "stream",
     "text": [
      "請從最後一篇的文章中找出最後一個問題的答案\n",
      "文章：廣州是京廣鐵路，廣深鐵路，廣茂鐵路和廣梅鐵路的終點站。2009年底，武廣客運專線投入運營，多機組列車長980公里，最高時速350公里。2011年1月7日，廣珠城際鐵路投入運營，平均時速200公里。廣州鐵路，長途巴士和渡輪直達香港。廣九快速列車從廣州火車東站出發，直達香港紅磡火車站。總長約182公里，行程大約需要兩個小時。每年都有繁忙的教練從香港的不同乘客點接載乘客。在市中心的珠江北岸有一條渡輪線路，河流居民可以直接過河而無需乘坐公共汽車或步行穿過大橋。每天都有往返南沙碼頭和蓮花山碼頭的高速雙體船。渡輪也開往香港中國客運碼頭和港澳客運碼頭。\n",
      "問題：廣珠城際鐵路平均每小時可以走多遠？\n",
      "答案：200公里\n",
      "文章：自古以來，廣州一直是華南地區的著名商人，擁有2000多年的開放貿易歷史。20世紀70年代末中國大陸改革開放後，廣州經濟發展迅速。2010年，全市地區生產總值10604.48億元，同比增長13％。它成為僅次於上海和北京的第三個進入“萬億元俱樂部”國內生產總值的城市。這也是第一個超過一萬億的經濟總量。首都。根據國務院2005年發布的報告，廣州成為中國第一個進入“發達”狀態的城市。2012年9月，廣州南沙新區獲批，成為第六個國家級開放開發新區。2015年，廣州GDP達到1810.41億元，人均GDP達到138,377.05元。國內生產總值是中國的第三位，人均國內生產總值與西班牙相當。購買力平價水平與發達國家相當。\n",
      "問題：進入國內生產總值「萬億元俱樂部」的城市第三個為？\n",
      "答案：廣州\n",
      "文章：2010年引入的廣州快速交通運輸系統是世界第二大快速運輸系統。每日載客量可達100萬人次。每小時的客流量峰值高達26,900名乘客，僅次於波哥大的快速交通系統。每10秒有一輛公共汽車，每輛公共汽車在一個方向上行駛350小時。該平台包括橋樑，是世界上最長的國家公共汽車快速運輸系統平台，長度為260米。目前，廣州市的出租車和公交車主要以液化石油氣為燃料，部分公交車採用油電，氣電混合技術。2012年底，一輛LNG燃料公共汽車開始啟動。2014年6月，引入了LNG插電式混合動力公交車取代LPG公交車。2007年1月16日，廣州市政府完全禁止在城市地區駕駛摩托車。違反禁令的機動車將被沒收。廣州市交通局聲稱，禁令的實施導致交通擁堵和車禍大大減少。廣州白雲國際機場位於白雲區與花都區交界處。它於2004年8月5日正式投入運營。它是中國第二繁忙的機場。機場取代了原先位於市中心的舊機場，無法滿足日益增長的航空需求。目前，機場有三個簡易機場，是中國第三個擁有三條跑道的民航機場。比2023年香港國際機場第三條跑道的預計完工時間提前了8年。\n",
      "問題：從哪一天開始在廣州市內騎摩托車會被沒收？\n",
      "答案：\n",
      "正確答案: 2007年1月16日\n",
      "模型輸出: 2007年1月16日\n",
      "\n",
      "請從最後一篇的文章中找出最後一個問題的答案\n",
      "文章：2010年7月，1000多名市民聚集在地鐵江南西站出口處舉行2010年廣州支持粵語行動請願活動。在收到有關該活動被取消的消息後，他們仍然按計劃時間到達為光復文化發行自己的活動。語音。在內地媒體封鎖消息傳出後，廣州還封鎖了與香港電視有關的新聞片段。8月1日，廣州中央公園的粵語聚會受到當局的強烈阻撓。人們被迫轉移路線。當他們到達北京路南段時，他們被大批警察包圍。參與者被帶到公共汽車並在東山體育場被帶走。它在被質疑和被定罪後被釋放。大陸請願制度允許人們向上級政府部門發出呼籲。廣東省政府經常邀請來自省內各地的請願人來到東風路正門，得到省政府的幫助。在集會時，當局將調動大量警察部隊積極處理他們。在對峙期間，交通通常會很慢，但當地官方媒體從未報導相關報導。2014年初，更重要的請願者是該省的家禽商，由於市場被迫關閉，在禽流感期間遭受了損失，以及隋毛反對茂名石化項目的年輕人。\n",
      "問題：2010年廣州撐粵語行動請願活動是在當年的什麼時候舉行的？\n",
      "答案：7月\n",
      "文章：多年來，廣州當局積極開展各種政府項目。自1990年以來，廣州參與了“創建國家健康城市”，並於2008年成功獲得該獎項。1998年，“創建全國文明城市”開始，2011年取得了成功。在“創造健康”期間，廣州市的衛生狀況得到了明顯改善，如清理城市衛生角，城中村，污水處理和食品安全管理。一些官員說，“創造健康”只是一個起點，沒有盡頭。 “創造”是“人心的項目”。關於在這些項目，形式主義和騷亂上花費的巨額公共資金，還有媒體問題和批評。多年來在這兩個項目上花費的公共資金數量已達數十億，這使得計算難度很大。在廣州亞運會之際，廣州市政府在2010年之前開展了大量的城市建設項目，包括：改造多條道路和人行道，重新鋪設地磚和花卉基地;和許多新老天橋的灰白色油漆;大多數街道拱廊和歷史建築的改造;正面建築的屋頂均勻配備紅色塑料屋頂，外牆經過翻新，配備空調壓縮機蓋和照明。然而，有些人質疑，在亞運會期間，許多精心準備的道路被強行翻新，當街邊商場和歷史建築被翻新時，原有的歷史和藝術感被摧毀。許多小偷參與了街道上數千棟建築的統一改造。通過腳手架，數百戶家庭被盜。項目完成後不久，揭露了涉及使用劣質材料的事件，這也遭到許多公民的批評。作為中國的中心城市之一，廣州的醫療保險和便利服務覆蓋了整個城市。大多數市政公園和所有公共廁所也是免費的。\n",
      "問題：廣州市於什麼時候獲得從1990年開始參與的「創衛」？\n",
      "答案：2008年\n",
      "文章：廣州是京廣鐵路，廣深鐵路，廣茂鐵路和廣梅鐵路的終點站。2009年底，武廣客運專線投入運營，多機組列車長980公里，最高時速350公里。2011年1月7日，廣珠城際鐵路投入運營，平均時速200公里。廣州鐵路，長途巴士和渡輪直達香港。廣九快速列車從廣州火車東站出發，直達香港紅磡火車站。總長約182公里，行程大約需要兩個小時。每年都有繁忙的教練從香港的不同乘客點接載乘客。在市中心的珠江北岸有一條渡輪線路，河流居民可以直接過河而無需乘坐公共汽車或步行穿過大橋。每天都有往返南沙碼頭和蓮花山碼頭的高速雙體船。渡輪也開往香港中國客運碼頭和港澳客運碼頭。\n",
      "問題：廣珠城際鐵路平均每小時可以走多遠？\n",
      "答案：\n",
      "正確答案: 200公里\n",
      "模型輸出: 200公里\n",
      "\n",
      "請從最後一篇的文章中找出最後一個問題的答案\n",
      "文章：作為現代革命的發祥地之一，廣州是中華民國以來中國社會運動的中心之一。每次全國社會運動都有廣州人民的回應和參與。一個相對大規模的社會運動集中在廣州，這是1925年至1926年在廣州和香港舉行的首次省和港口罷工。1989年，廣州市民發起了支持天安門民主運動的運動。數百萬人聚集在海珠廣場，聚集在廣州解放紀念碑周圍。在早期，廣州媒體支持“愛國運動”的名稱。流血事件發生後，民眾發生騷亂，省市政府機構遭到襲擊，所有廣州媒體都被立即禁止，這也乾擾並封鎖了香港電視台。省政府派出軍隊和警察鎮壓遊行群眾，大量參與者潛入香港，台灣和海外。所有企事業單位也派人檢查各部門員工是否組織或參加了集會。在1999年的全國反美活動中，數十萬人和學生在該市舉行示威活動，抗議北約轟炸中國駐南斯拉夫大使館。與此同時，美國駐廣州領事館也受到一些激進示威者的破壞。廣州媒體在此過程中也紛紛效仿，但沒有提到美國駐廣州領事館受損的情況。2005年，主要道路上發生了數十萬起反日遊行。然而，在廣州的封鎖中，大學和中學也禁止學生遊行，否則他們就開除了學業。\n",
      "問題：省港大罷工是除了廣州以外還有哪個地區參與？\n",
      "答案：香港\n",
      "文章：中華人民共和國成立後的工業國有化。在20世紀50年代和60年代，該行業復甦，但文化大革命再次嚴重影響了廣州的工業生產，工業發展放緩。然而，在政府的支持下，仍然建立了重工業體系。1975年以後，政局改善，政府大力支持以日用品為主的輕工業，廣州工業進入快速增長期。20世紀80年代末，廣州主要發展第三產業，工業產值比重下降。從20世紀90年代到2000年，廣州市政府試圖改變行業構成，增加對重工業的支持。汽車，石化，電子信息產品的製造已成為廣州的三大支柱產業。廣州的工業總產值在全省排名第三。其中，汽車工業成功吸引了日本三大汽車製造企業投資建廠，使廣州成為近幾年來中國重要的汽車生產基地之一。江南最大的廣州晨天汽車零部件市場位於郊區，廣州也是國內。生產日本汽車最多的城市。\n",
      "問題：中華人民共和國成立後由於什麼事件廣州的工業發展又減慢？\n",
      "答案：文化大革命\n",
      "文章：自古以來，廣州一直是華南地區的著名商人，擁有2000多年的開放貿易歷史。20世紀70年代末中國大陸改革開放後，廣州經濟發展迅速。2010年，全市地區生產總值10604.48億元，同比增長13％。它成為僅次於上海和北京的第三個進入“萬億元俱樂部”國內生產總值的城市。這也是第一個超過一萬億的經濟總量。首都。根據國務院2005年發布的報告，廣州成為中國第一個進入“發達”狀態的城市。2012年9月，廣州南沙新區獲批，成為第六個國家級開放開發新區。2015年，廣州GDP達到1810.41億元，人均GDP達到138,377.05元。國內生產總值是中國的第三位，人均國內生產總值與西班牙相當。購買力平價水平與發達國家相當。\n",
      "問題：進入國內生產總值「萬億元俱樂部」的城市第三個為？\n",
      "答案：\n",
      "正確答案: 廣州\n",
      "模型輸出: 首都。\n",
      "\n",
      "請從最後一篇的文章中找出最後一個問題的答案\n",
      "文章：2010年引入的廣州快速交通運輸系統是世界第二大快速運輸系統。每日載客量可達100萬人次。每小時的客流量峰值高達26,900名乘客，僅次於波哥大的快速交通系統。每10秒有一輛公共汽車，每輛公共汽車在一個方向上行駛350小時。該平台包括橋樑，是世界上最長的國家公共汽車快速運輸系統平台，長度為260米。目前，廣州市的出租車和公交車主要以液化石油氣為燃料，部分公交車採用油電，氣電混合技術。2012年底，一輛LNG燃料公共汽車開始啟動。2014年6月，引入了LNG插電式混合動力公交車取代LPG公交車。2007年1月16日，廣州市政府完全禁止在城市地區駕駛摩托車。違反禁令的機動車將被沒收。廣州市交通局聲稱，禁令的實施導致交通擁堵和車禍大大減少。廣州白雲國際機場位於白雲區與花都區交界處。它於2004年8月5日正式投入運營。它是中國第二繁忙的機場。機場取代了原先位於市中心的舊機場，無法滿足日益增長的航空需求。目前，機場有三個簡易機場，是中國第三個擁有三條跑道的民航機場。比2023年香港國際機場第三條跑道的預計完工時間提前了8年。\n",
      "問題：從哪一天開始在廣州市內騎摩托車會被沒收？\n",
      "答案：2007年1月16日\n",
      "文章：2010年7月，1000多名市民聚集在地鐵江南西站出口處舉行2010年廣州支持粵語行動請願活動。在收到有關該活動被取消的消息後，他們仍然按計劃時間到達為光復文化發行自己的活動。語音。在內地媒體封鎖消息傳出後，廣州還封鎖了與香港電視有關的新聞片段。8月1日，廣州中央公園的粵語聚會受到當局的強烈阻撓。人們被迫轉移路線。當他們到達北京路南段時，他們被大批警察包圍。參與者被帶到公共汽車並在東山體育場被帶走。它在被質疑和被定罪後被釋放。大陸請願制度允許人們向上級政府部門發出呼籲。廣東省政府經常邀請來自省內各地的請願人來到東風路正門，得到省政府的幫助。在集會時，當局將調動大量警察部隊積極處理他們。在對峙期間，交通通常會很慢，但當地官方媒體從未報導相關報導。2014年初，更重要的請願者是該省的家禽商，由於市場被迫關閉，在禽流感期間遭受了損失，以及隋毛反對茂名石化項目的年輕人。\n",
      "問題：2010年廣州撐粵語行動請願活動是在當年的什麼時候舉行的？\n",
      "答案：7月\n",
      "文章：廣州的雨水豐富，土地肥沃。市區曾經擁有非常大的農業用地。兩千年前有水稻種植記錄。宋代的廣州是中國最大的大米市場之一，蔬菜，水果，甘蔗和鮮花也很有名。由於長期以來一直是國家港口，廣州引進了各種優質作物品種。二十世紀上半葉，由於外國農產品的入侵和戰爭的影響，廣州的農業增長放緩。在20世紀50年代中期，農業生產急劇增加，但是後來的“大躍進”和隨後的文化大革命嚴重打擊了農業生產。改革開放以來，隨著廣州作為一個大城市的發展，服務城市的郊區農業模式逐步形成。政府的政策是為城市服務，豐富農民和人民，並鼓勵出口收入。具體措施是降低糧食生產比例，增加水果，蔬菜等農副產品比重，努力發展林業，畜牧業和漁業。廣州的農業產值大幅增加，但隨著第二，三產業的快速增長，農業的經濟份額逐漸下降。1978年，廣州農業總產值佔地區生產總值的11.67％，1990年下降到8.05％。 2015年，廣州農業總產值為413億元，佔地區GDP的2.28％。城市發展和工業化進程也造成了農村勞動力的大量流失和農地的迅速衰退。清光緒五年間，廣州登記的天山山池總面積為10662.3萬畝。1990年，耕地面積為247萬畝，2006年減少到158.3萬畝。目前，廣州農產品種植地主要分佈在白雲，花都，番禺，南沙，從化和增城。1990年，農業人口為252.87萬，2008年為792,200。廣州最著名的農業特產包括梧桐五秀和各種熱帶水果，如荔枝，香蕉，木瓜和菠蘿。\n",
      "問題：1978年的廣州市農業生產總值到了哪一年占地區生總值減少了約9.39%？\n",
      "答案：\n",
      "正確答案: 2015\n",
      "模型輸出: 1990年\n",
      "\n",
      "請從最後一篇的文章中找出最後一個問題的答案\n",
      "文章：清朝末期，廣州爆發了幾次武裝起義，所有起義都以失敗告終。1911年10月10日武昌起義後，廣東省獨立。 11月10日，軍政府成立，胡漢民當選為州長。12月初，廣東省臨時省委成立。據宣布，21歲以上的廣東國民有選舉權和被選舉權。議會由120名成員組成，其中包括20名聯盟成員，21名軍團協會代表，12名海外華人代表以及師生代表。 9人，1名“自治團體”代表，57名來自各地區的代表。其中，女議員必須佔據​​10人，中國女性是第一個參與政治的人。1913年4月27日，廣東省議會成立，羅曉峰被任命為議長。1918年10月，廣州市政府辦公室成立。1921年2月，廣州正式成立，廣州市政府成立，孫克被任命為市長。1917年至1922年間，孫中山和西南各省議會代表兩次在廣州建立了法國政府。1925年，孫中山去世。同年7月，廣州國民政府成立。 7月4日，廣州市政府成立，實行市委製度。吳朝書被任命為市委主席。1929年，廣州實施了市長制。1949年10月14日，中國人民解放軍佔領了廣州。 28日，廣州軍事管理委員會成立。葉劍英是董事長。目前，廣州實行了中華人民共和國政治體制下的人民代表大會制度。市政府在廣州市委員會的領導下運作，政府駐留在越秀區。廣州省是廣東省省會，廣東省人民政府駐地。\n",
      "問題：廣東省因為哪一場戰爭而獨立？\n",
      "答案：武昌起義\n",
      "文章：自古以來，廣州一直是華南地區的著名商人，擁有2000多年的開放貿易歷史。20世紀70年代末中國大陸改革開放後，廣州經濟發展迅速。2010年，全市地區生產總值10604.48億元，同比增長13％。它成為僅次於上海和北京的第三個進入“萬億元俱樂部”國內生產總值的城市。這也是第一個超過一萬億的經濟總量。首都。根據國務院2005年發布的報告，廣州成為中國第一個進入“發達”狀態的城市。2012年9月，廣州南沙新區獲批，成為第六個國家級開放開發新區。2015年，廣州GDP達到1810.41億元，人均GDP達到138,377.05元。國內生產總值是中國的第三位，人均國內生產總值與西班牙相當。購買力平價水平與發達國家相當。\n",
      "問題：進入國內生產總值「萬億元俱樂部」的城市第三個為？\n",
      "答案：廣州\n",
      "文章：中華人民共和國成立後的工業國有化。在20世紀50年代和60年代，該行業復甦，但文化大革命再次嚴重影響了廣州的工業生產，工業發展放緩。然而，在政府的支持下，仍然建立了重工業體系。1975年以後，政局改善，政府大力支持以日用品為主的輕工業，廣州工業進入快速增長期。20世紀80年代末，廣州主要發展第三產業，工業產值比重下降。從20世紀90年代到2000年，廣州市政府試圖改變行業構成，增加對重工業的支持。汽車，石化，電子信息產品的製造已成為廣州的三大支柱產業。廣州的工業總產值在全省排名第三。其中，汽車工業成功吸引了日本三大汽車製造企業投資建廠，使廣州成為近幾年來中國重要的汽車生產基地之一。江南最大的廣州晨天汽車零部件市場位於郊區，廣州也是國內。生產日本汽車最多的城市。\n",
      "問題：中華人民共和國成立後由於什麼事件廣州的工業發展又減慢？\n",
      "答案：\n",
      "正確答案: 文化大革命\n",
      "模型輸出: 文化大革命\n",
      "\n",
      "請從最後一篇的文章中找出最後一個問題的答案\n",
      "文章：多年來，廣州當局積極開展各種政府項目。自1990年以來，廣州參與了“創建國家健康城市”，並於2008年成功獲得該獎項。1998年，“創建全國文明城市”開始，2011年取得了成功。在“創造健康”期間，廣州市的衛生狀況得到了明顯改善，如清理城市衛生角，城中村，污水處理和食品安全管理。一些官員說，“創造健康”只是一個起點，沒有盡頭。 “創造”是“人心的項目”。關於在這些項目，形式主義和騷亂上花費的巨額公共資金，還有媒體問題和批評。多年來在這兩個項目上花費的公共資金數量已達數十億，這使得計算難度很大。在廣州亞運會之際，廣州市政府在2010年之前開展了大量的城市建設項目，包括：改造多條道路和人行道，重新鋪設地磚和花卉基地;和許多新老天橋的灰白色油漆;大多數街道拱廊和歷史建築的改造;正面建築的屋頂均勻配備紅色塑料屋頂，外牆經過翻新，配備空調壓縮機蓋和照明。然而，有些人質疑，在亞運會期間，許多精心準備的道路被強行翻新，當街邊商場和歷史建築被翻新時，原有的歷史和藝術感被摧毀。許多小偷參與了街道上數千棟建築的統一改造。通過腳手架，數百戶家庭被盜。項目完成後不久，揭露了涉及使用劣質材料的事件，這也遭到許多公民的批評。作為中國的中心城市之一，廣州的醫療保險和便利服務覆蓋了整個城市。大多數市政公園和所有公共廁所也是免費的。\n",
      "問題：廣州市於什麼時候獲得從1990年開始參與的「創衛」？\n",
      "答案：2008年\n",
      "文章：廣州是京廣鐵路，廣深鐵路，廣茂鐵路和廣梅鐵路的終點站。2009年底，武廣客運專線投入運營，多機組列車長980公里，最高時速350公里。2011年1月7日，廣珠城際鐵路投入運營，平均時速200公里。廣州鐵路，長途巴士和渡輪直達香港。廣九快速列車從廣州火車東站出發，直達香港紅磡火車站。總長約182公里，行程大約需要兩個小時。每年都有繁忙的教練從香港的不同乘客點接載乘客。在市中心的珠江北岸有一條渡輪線路，河流居民可以直接過河而無需乘坐公共汽車或步行穿過大橋。每天都有往返南沙碼頭和蓮花山碼頭的高速雙體船。渡輪也開往香港中國客運碼頭和港澳客運碼頭。\n",
      "問題：廣珠城際鐵路平均每小時可以走多遠？\n",
      "答案：200公里\n",
      "文章：六朝時期，廣州的對外貿易相當繁榮，外國海商“長期停留在廣州尋求利潤”。在隋唐時期，廣州的對外貿易發展到了頂峰。作為唐代唯一的城市，外國人口占全市人口的30％以上，成為中國對外貿易的核心。在元朝短暫的沉寂之後，廣州和明清在廣州重新出現。在清代的一站式貿易政策下，它成為當時中國唯一的外國港口，成為具有壟斷地位的國家商業中心。上海開放後，隨著國家的逐步開放，廣州逐漸失去了對外貿易中心的地位，但它仍然是全國最重要的商業城市。改革開放後，廣州百貨業蓬勃發展。 20世紀80年代，友誼商店專門為香港，澳門和外國客人銷售電器和其他進口商品。西湖路照明夜市是平民的熱門目的地。南樓位於江西路沿線，已成為華南地區最大的綜合性百貨商場。它還在大陸創建了第一家24小時便利店，華夏百貨商店成立了人民南商圈。延伸，後者於1995年建立了一條步行街。新大新公司和廣州百貨在北京路的業務也蓬勃發展，這條路也成了一條步行街。超市Wankelong於1996年在廣州開設了第一家分店，然後廣州人熟悉的超市和便利店品牌，如香港百佳超市進入廣州。由於交通壓力和天河新區的發展，20世紀90年代末人民南方商業圈開始衰落，成為電子服裝批發的集散地，城市商業區遷至東部新區。21世紀，以天河城，天環廣場，鄭家廣場，太古彙和萬靈彙為代表的天河路商業區已成為廣州的中心商業區。自1957年以來，中國出口商品交易會每年春秋兩季舉辦。目前，每個展覽都吸引了來自世界各地的20多萬商家。這是中國規模最大，時間最長，最成功的國際展覽會。隨著琶洲展館三期工程的建設，展覽能力躍居世界前列。\n",
      "問題：唐朝的對外貿易核心在哪？\n",
      "答案：\n",
      "正確答案: 廣州\n",
      "模型輸出: 廣州\n",
      "\n",
      "請從最後一篇的文章中找出最後一個問題的答案\n",
      "文章：廣州的雨水豐富，土地肥沃。市區曾經擁有非常大的農業用地。兩千年前有水稻種植記錄。宋代的廣州是中國最大的大米市場之一，蔬菜，水果，甘蔗和鮮花也很有名。由於長期以來一直是國家港口，廣州引進了各種優質作物品種。二十世紀上半葉，由於外國農產品的入侵和戰爭的影響，廣州的農業增長放緩。在20世紀50年代中期，農業生產急劇增加，但是後來的“大躍進”和隨後的文化大革命嚴重打擊了農業生產。改革開放以來，隨著廣州作為一個大城市的發展，服務城市的郊區農業模式逐步形成。政府的政策是為城市服務，豐富農民和人民，並鼓勵出口收入。具體措施是降低糧食生產比例，增加水果，蔬菜等農副產品比重，努力發展林業，畜牧業和漁業。廣州的農業產值大幅增加，但隨著第二，三產業的快速增長，農業的經濟份額逐漸下降。1978年，廣州農業總產值佔地區生產總值的11.67％，1990年下降到8.05％。 2015年，廣州農業總產值為413億元，佔地區GDP的2.28％。城市發展和工業化進程也造成了農村勞動力的大量流失和農地的迅速衰退。清光緒五年間，廣州登記的天山山池總面積為10662.3萬畝。1990年，耕地面積為247萬畝，2006年減少到158.3萬畝。目前，廣州農產品種植地主要分佈在白雲，花都，番禺，南沙，從化和增城。1990年，農業人口為252.87萬，2008年為792,200。廣州最著名的農業特產包括梧桐五秀和各種熱帶水果，如荔枝，香蕉，木瓜和菠蘿。\n",
      "問題：1978年的廣州市農業生產總值到了哪一年占地區生總值減少了約9.39%？\n",
      "答案：2015\n",
      "文章：公元前214年，秦始皇出兵徵兵嶺南，南海縣任仁軍在梵山和廬山建造了番禺城。這是廣州最初建成時的名稱，已在中華民國使用。公元226年和246年，吳國將膠州分為兩部分：“廣州”和“廣州”。合浦以南仍被稱為“城洲”，合浦以北被稱為國務院芷芝部的“廣州”。 “廣州”包括南海，蒼梧，榆林和合浦四個縣。這是兩國分裂的開始，也是“廣州”這個名稱的開頭，但廣州當時只提到了一個管轄區，相當於現在的廣東省。自唐代以來，廣州地區已成立為光復的起源。它於1921年正式成立，番禺市首次被評為廣州。廣州又被稱為“五羊城”，“陽城”和“遂城”，簡稱“隋”。這些別名來自五羊的傳說：有五個神仙穿著五色衣服，騎著五色羊。拿著“一根六根”的穀物來到廣州市，在把耳朵送到城市後，他們飛走了。五隻羊變成了石頭。因此，廣州也被稱為“五陽城”和“遂城”。因為它位於亞熱帶地區，氣候溫暖​​，適合種植花卉。此外，廣州人喜愛種花，買花，送花。花卉市場每年繁榮，廣州享有華城的美譽。從唐代開始，廣州就是廣州的首府。清朝以後，它是廣東省的省會。因此，省會成為廣州廣東人的總稱。在古代，廣州也有南武市，楚庭，番禺和南海的稱號。\n",
      "問題：番禺城這一個名子一直用到哪一年才改名為廣州市？\n",
      "答案：1921\n",
      "文章：自古以來，廣州基本上就是嶺南的政治中心。秦朝末年是南嶽的首都，漢朝征服了南嶽州，後來成為南海縣。漢末遷至龍灣和古代大壩。在三國時期，吳國布將縣長遷回番禺，後來成立了膠州府。廣州和廣州轉移後，它是廣州的州長。晉南，南北朝使用南海縣，番禺由縣統治。文帝皇帝廢棄了南海縣，成立了廣州總務辦公室，後來改為杜都政府。唐代分為十個民族，其中嶺南大智學院位於廣州。862年，嶺南分為東二西路，廣州分為嶺南東路。五代時期，廣州是南漢的首都。宋初，嶺南路重建，廣州是行政中心。明代廣州是廣州阜城，隸屬番禺縣和南海縣。清軍佔領中原後，南明邵武帝朱熹在廣州建成，很快南明就死了。清代廣州成為廣東省，廣州阜城，番禺和南海縣。廣東省和廣西省，廣東省屯門省長，廣東省屯門局長，廣東省檢察院都在廣州市南海縣境內。1858年，英法聯軍攻占廣州，廣東省長投降，外國人委員會成立，廣東省政府成為政府。\n",
      "問題：南明的首都在哪？\n",
      "答案：\n",
      "正確答案: 廣州\n",
      "模型輸出: 廣州\n",
      "\n",
      "請從最後一篇的文章中找出最後一個問題的答案\n",
      "文章：作為現代革命的發祥地之一，廣州是中華民國以來中國社會運動的中心之一。每次全國社會運動都有廣州人民的回應和參與。一個相對大規模的社會運動集中在廣州，這是1925年至1926年在廣州和香港舉行的首次省和港口罷工。1989年，廣州市民發起了支持天安門民主運動的運動。數百萬人聚集在海珠廣場，聚集在廣州解放紀念碑周圍。在早期，廣州媒體支持“愛國運動”的名稱。流血事件發生後，民眾發生騷亂，省市政府機構遭到襲擊，所有廣州媒體都被立即禁止，這也乾擾並封鎖了香港電視台。省政府派出軍隊和警察鎮壓遊行群眾，大量參與者潛入香港，台灣和海外。所有企事業單位也派人檢查各部門員工是否組織或參加了集會。在1999年的全國反美活動中，數十萬人和學生在該市舉行示威活動，抗議北約轟炸中國駐南斯拉夫大使館。與此同時，美國駐廣州領事館也受到一些激進示威者的破壞。廣州媒體在此過程中也紛紛效仿，但沒有提到美國駐廣州領事館受損的情況。2005年，主要道路上發生了數十萬起反日遊行。然而，在廣州的封鎖中，大學和中學也禁止學生遊行，否則他們就開除了學業。\n",
      "問題：省港大罷工是除了廣州以外還有哪個地區參與？\n",
      "答案：香港\n",
      "文章：2012年，全市常住人口1283萬人，戶籍人口8230萬，城鎮常住人口778.17萬人，外來人口占36％。廣州是全國人口密度高的城市之一。大多數人口集中在舊城區。四個中心區的平均居民人口密度達到每平方公里18,113人。人口密度最高的越秀區每平方公里達到34,009人，是人口密度最低的從化市的100多倍。自2001年以來，廣州的年出生率一直低於每千人9.6人，自然增長率低於每千人3.4人。公民的預期壽命高於全國平均水平，男性的預期壽命為75.25歲，女性的預期壽命為80.94歲。與此同時，人口老齡化問題也日益突出。截至2008年底，60歲以上老年人口達到1103,500人，佔全市總人口的13.4％。其中，老城區老年人口比例最高，超過18％，預計2030年老年人口將超過200萬。2010年第六次全國人口普查顯示，廣州的男性多於女性。截至2007年底，男女比例為109.46，即每100名女性109.46名男性。男性多於女性573,694。其中，0~14歲年齡組性別失衡嚴重，達到115.62，表明廣州性別比差距將在未來擴大。廣州人口以漢族為主，佔常住人口的98.3％，少數民族人口為219,900人。它屬於55個少數民族。其中，壯族，土家族，苗族，瑤族，回族，滿族，彝族，蒙古族，布依族，朝鮮族等10個民族。廣州經濟的快速發展和高就業機會吸引了大批農民工。 2008年，農民工佔該市人口的40％。如何妥善管理城市管理是市政府的一項艱鉅任務。\n",
      "問題：哪邊的人口密度為廣州市的一百倍分之一以下？\n",
      "答案：從化市\n",
      "文章：清朝末期，廣州爆發了幾次武裝起義，所有起義都以失敗告終。1911年10月10日武昌起義後，廣東省獨立。 11月10日，軍政府成立，胡漢民當選為州長。12月初，廣東省臨時省委成立。據宣布，21歲以上的廣東國民有選舉權和被選舉權。議會由120名成員組成，其中包括20名聯盟成員，21名軍團協會代表，12名海外華人代表以及師生代表。 9人，1名“自治團體”代表，57名來自各地區的代表。其中，女議員必須佔據​​10人，中國女性是第一個參與政治的人。1913年4月27日，廣東省議會成立，羅曉峰被任命為議長。1918年10月，廣州市政府辦公室成立。1921年2月，廣州正式成立，廣州市政府成立，孫克被任命為市長。1917年至1922年間，孫中山和西南各省議會代表兩次在廣州建立了法國政府。1925年，孫中山去世。同年7月，廣州國民政府成立。 7月4日，廣州市政府成立，實行市委製度。吳朝書被任命為市委主席。1929年，廣州實施了市長制。1949年10月14日，中國人民解放軍佔領了廣州。 28日，廣州軍事管理委員會成立。葉劍英是董事長。目前，廣州實行了中華人民共和國政治體制下的人民代表大會制度。市政府在廣州市委員會的領導下運作，政府駐留在越秀區。廣州省是廣東省省會，廣東省人民政府駐地。\n",
      "問題：廣東省因為哪一場戰爭而獨立？\n",
      "答案：\n",
      "正確答案: 武昌起義\n",
      "模型輸出: 1911年10月10日武昌起義\n",
      "\n",
      "請從最後一篇的文章中找出最後一個問題的答案\n",
      "文章：2010年7月，1000多名市民聚集在地鐵江南西站出口處舉行2010年廣州支持粵語行動請願活動。在收到有關該活動被取消的消息後，他們仍然按計劃時間到達為光復文化發行自己的活動。語音。在內地媒體封鎖消息傳出後，廣州還封鎖了與香港電視有關的新聞片段。8月1日，廣州中央公園的粵語聚會受到當局的強烈阻撓。人們被迫轉移路線。當他們到達北京路南段時，他們被大批警察包圍。參與者被帶到公共汽車並在東山體育場被帶走。它在被質疑和被定罪後被釋放。大陸請願制度允許人們向上級政府部門發出呼籲。廣東省政府經常邀請來自省內各地的請願人來到東風路正門，得到省政府的幫助。在集會時，當局將調動大量警察部隊積極處理他們。在對峙期間，交通通常會很慢，但當地官方媒體從未報導相關報導。2014年初，更重要的請願者是該省的家禽商，由於市場被迫關閉，在禽流感期間遭受了損失，以及隋毛反對茂名石化項目的年輕人。\n",
      "問題：2010年廣州撐粵語行動請願活動是在當年的什麼時候舉行的？\n",
      "答案：7月\n",
      "文章：清朝末期，廣州爆發了幾次武裝起義，所有起義都以失敗告終。1911年10月10日武昌起義後，廣東省獨立。 11月10日，軍政府成立，胡漢民當選為州長。12月初，廣東省臨時省委成立。據宣布，21歲以上的廣東國民有選舉權和被選舉權。議會由120名成員組成，其中包括20名聯盟成員，21名軍團協會代表，12名海外華人代表以及師生代表。 9人，1名“自治團體”代表，57名來自各地區的代表。其中，女議員必須佔據​​10人，中國女性是第一個參與政治的人。1913年4月27日，廣東省議會成立，羅曉峰被任命為議長。1918年10月，廣州市政府辦公室成立。1921年2月，廣州正式成立，廣州市政府成立，孫克被任命為市長。1917年至1922年間，孫中山和西南各省議會代表兩次在廣州建立了法國政府。1925年，孫中山去世。同年7月，廣州國民政府成立。 7月4日，廣州市政府成立，實行市委製度。吳朝書被任命為市委主席。1929年，廣州實施了市長制。1949年10月14日，中國人民解放軍佔領了廣州。 28日，廣州軍事管理委員會成立。葉劍英是董事長。目前，廣州實行了中華人民共和國政治體制下的人民代表大會制度。市政府在廣州市委員會的領導下運作，政府駐留在越秀區。廣州省是廣東省省會，廣東省人民政府駐地。\n",
      "問題：廣東省因為哪一場戰爭而獨立？\n",
      "答案：武昌起義\n",
      "文章：作為現代革命的發祥地之一，廣州是中華民國以來中國社會運動的中心之一。每次全國社會運動都有廣州人民的回應和參與。一個相對大規模的社會運動集中在廣州，這是1925年至1926年在廣州和香港舉行的首次省和港口罷工。1989年，廣州市民發起了支持天安門民主運動的運動。數百萬人聚集在海珠廣場，聚集在廣州解放紀念碑周圍。在早期，廣州媒體支持“愛國運動”的名稱。流血事件發生後，民眾發生騷亂，省市政府機構遭到襲擊，所有廣州媒體都被立即禁止，這也乾擾並封鎖了香港電視台。省政府派出軍隊和警察鎮壓遊行群眾，大量參與者潛入香港，台灣和海外。所有企事業單位也派人檢查各部門員工是否組織或參加了集會。在1999年的全國反美活動中，數十萬人和學生在該市舉行示威活動，抗議北約轟炸中國駐南斯拉夫大使館。與此同時，美國駐廣州領事館也受到一些激進示威者的破壞。廣州媒體在此過程中也紛紛效仿，但沒有提到美國駐廣州領事館受損的情況。2005年，主要道路上發生了數十萬起反日遊行。然而，在廣州的封鎖中，大學和中學也禁止學生遊行，否則他們就開除了學業。\n",
      "問題：省港大罷工是除了廣州以外還有哪個地區參與？\n",
      "答案：\n",
      "正確答案: 香港\n",
      "模型輸出: 香港\n",
      "\n",
      "請從最後一篇的文章中找出最後一個問題的答案\n",
      "文章：長期以來，廣州大部分地方的語言主要是廣東話。因此，廣州還形成了粵語文化，包括粵劇，粵劇，南音和鹹水歌。隨著中國大陸的改革開放，來自城外和廣東省以外的大量人口迅速湧入。在這些移民中，由於不同的省/總統，有許多不同的語言，外國人和來自不同地區的人經常用普通話交流;因此，在許多大型公共場所，普通話是主要語言。在某些情況下，將增加粵語或英語廣播，種族群體仍然使用自己的方言進行相互交流。一些外國人會用當地文化交流，用粵語與當地人交流。如今，隨著普通話的推廣，外國和本地年輕人受長期使用普通話作為教學媒介和普通話的共同環境的影響。目前，廣州的語言交換主要講普通話，但當地人仍然使用廣東話。與交流。雖然普通話自21世紀初以來逐漸佔據主導地位，但它受到當地文化的影響。與此同時，由於香港和澳門的距離較近，以及廣州市民近年來開展了一系列推廣普通話的評論，它已開始保護廣東話，所以廣東話仍有一定的地位。當地。 。\n",
      "問題：在廣州許多比較大的公眾場合以甚麼為主要交流語言？\n",
      "答案：普通話\n",
      "文章：廣州是京廣鐵路，廣深鐵路，廣茂鐵路和廣梅鐵路的終點站。2009年底，武廣客運專線投入運營，多機組列車長980公里，最高時速350公里。2011年1月7日，廣珠城際鐵路投入運營，平均時速200公里。廣州鐵路，長途巴士和渡輪直達香港。廣九快速列車從廣州火車東站出發，直達香港紅磡火車站。總長約182公里，行程大約需要兩個小時。每年都有繁忙的教練從香港的不同乘客點接載乘客。在市中心的珠江北岸有一條渡輪線路，河流居民可以直接過河而無需乘坐公共汽車或步行穿過大橋。每天都有往返南沙碼頭和蓮花山碼頭的高速雙體船。渡輪也開往香港中國客運碼頭和港澳客運碼頭。\n",
      "問題：廣珠城際鐵路平均每小時可以走多遠？\n",
      "答案：200公里\n",
      "文章：公元前214年，秦始皇出兵徵兵嶺南，南海縣任仁軍在梵山和廬山建造了番禺城。這是廣州最初建成時的名稱，已在中華民國使用。公元226年和246年，吳國將膠州分為兩部分：“廣州”和“廣州”。合浦以南仍被稱為“城洲”，合浦以北被稱為國務院芷芝部的“廣州”。 “廣州”包括南海，蒼梧，榆林和合浦四個縣。這是兩國分裂的開始，也是“廣州”這個名稱的開頭，但廣州當時只提到了一個管轄區，相當於現在的廣東省。自唐代以來，廣州地區已成立為光復的起源。它於1921年正式成立，番禺市首次被評為廣州。廣州又被稱為“五羊城”，“陽城”和“遂城”，簡稱“隋”。這些別名來自五羊的傳說：有五個神仙穿著五色衣服，騎著五色羊。拿著“一根六根”的穀物來到廣州市，在把耳朵送到城市後，他們飛走了。五隻羊變成了石頭。因此，廣州也被稱為“五陽城”和“遂城”。因為它位於亞熱帶地區，氣候溫暖​​，適合種植花卉。此外，廣州人喜愛種花，買花，送花。花卉市場每年繁榮，廣州享有華城的美譽。從唐代開始，廣州就是廣州的首府。清朝以後，它是廣東省的省會。因此，省會成為廣州廣東人的總稱。在古代，廣州也有南武市，楚庭，番禺和南海的稱號。\n",
      "問題：番禺城這一個名子一直用到哪一年才改名為廣州市？\n",
      "答案：\n",
      "正確答案: 1921\n",
      "模型輸出: 公元前214年,秦始皇出兵徵兵南,南海縣任\n",
      "\n",
      "請從最後一篇的文章中找出最後一個問題的答案\n",
      "文章：公元前214年，秦始皇出兵徵兵嶺南，南海縣任仁軍在梵山和廬山建造了番禺城。這是廣州最初建成時的名稱，已在中華民國使用。公元226年和246年，吳國將膠州分為兩部分：“廣州”和“廣州”。合浦以南仍被稱為“城洲”，合浦以北被稱為國務院芷芝部的“廣州”。 “廣州”包括南海，蒼梧，榆林和合浦四個縣。這是兩國分裂的開始，也是“廣州”這個名稱的開頭，但廣州當時只提到了一個管轄區，相當於現在的廣東省。自唐代以來，廣州地區已成立為光復的起源。它於1921年正式成立，番禺市首次被評為廣州。廣州又被稱為“五羊城”，“陽城”和“遂城”，簡稱“隋”。這些別名來自五羊的傳說：有五個神仙穿著五色衣服，騎著五色羊。拿著“一根六根”的穀物來到廣州市，在把耳朵送到城市後，他們飛走了。五隻羊變成了石頭。因此，廣州也被稱為“五陽城”和“遂城”。因為它位於亞熱帶地區，氣候溫暖​​，適合種植花卉。此外，廣州人喜愛種花，買花，送花。花卉市場每年繁榮，廣州享有華城的美譽。從唐代開始，廣州就是廣州的首府。清朝以後，它是廣東省的省會。因此，省會成為廣州廣東人的總稱。在古代，廣州也有南武市，楚庭，番禺和南海的稱號。\n",
      "問題：番禺城這一個名子一直用到哪一年才改名為廣州市？\n",
      "答案：1921\n",
      "文章：廣州是中國最重要的開放城市之一。作為對外貿易的窗口，有許多來自北美，日本，韓國，歐洲，中東，非洲等國的外國人，尤其是非洲黑人。廣州甚至被稱為“第三世界”。首都主要位於廣州市環市東路秀山大廈，淘金路，花園酒店，建馬路和劍馬路;天河北路，體育東路，天河路，龍口西路，臨河中路等公司辦公室;番禺區的一些物業，如克利福德新村和麗江花園，也有更多的外國人。據廣州市公安局出入境管理支隊2014年10月統計，在廣州登記的外國人有11.8萬人，其中臨時居民71,000人，居住半年以上的47,000名永久居民。其中大多數是來自非洲的4,000多名註冊外國人;來自阿拉伯國家和地區的約1萬人雖然沒有大規模的定居點，但經常出現在小北 - 登封地區的商業區進行商業活動。在荔景街也有更多的韓國人。2013年，有超過15萬名乘客進出廣州港，其中54萬人來自非洲國家。他們中的大多數人來往於同一個人，主要是因為簽證允許短期逗留或商業需求而不是移民。近年來，廣州黑人一直捲入廣州的一些公安問題，引起廣州市民的一些不滿。針對“三非”問題，公安機關設立了四個涉外綜合執法隊伍，翻譯志願服務隊伍，調查“三個非外國”外國專業隊和四個外國隊 - 相關管理基層服務隊伍;自年初以來，廣州在200多名外國人社區建立了75個“外國人管理服務工作站”，並大力打擊“三非”外國人。它已經取得了成果。\n",
      "問題：被稱為「第三世界首都」的城市哪種外籍人士最多？\n",
      "答案：非洲黑人\n",
      "文章：2010年7月，1000多名市民聚集在地鐵江南西站出口處舉行2010年廣州支持粵語行動請願活動。在收到有關該活動被取消的消息後，他們仍然按計劃時間到達為光復文化發行自己的活動。語音。在內地媒體封鎖消息傳出後，廣州還封鎖了與香港電視有關的新聞片段。8月1日，廣州中央公園的粵語聚會受到當局的強烈阻撓。人們被迫轉移路線。當他們到達北京路南段時，他們被大批警察包圍。參與者被帶到公共汽車並在東山體育場被帶走。它在被質疑和被定罪後被釋放。大陸請願制度允許人們向上級政府部門發出呼籲。廣東省政府經常邀請來自省內各地的請願人來到東風路正門，得到省政府的幫助。在集會時，當局將調動大量警察部隊積極處理他們。在對峙期間，交通通常會很慢，但當地官方媒體從未報導相關報導。2014年初，更重要的請願者是該省的家禽商，由於市場被迫關閉，在禽流感期間遭受了損失，以及隋毛反對茂名石化項目的年輕人。\n",
      "問題：2010年廣州撐粵語行動請願活動是在當年的什麼時候舉行的？\n",
      "答案：\n",
      "正確答案: 7月\n",
      "模型輸出: 2010年7月\n",
      "\n",
      "請從最後一篇的文章中找出最後一個問題的答案\n",
      "文章：清朝末期，廣州爆發了幾次武裝起義，所有起義都以失敗告終。1911年10月10日武昌起義後，廣東省獨立。 11月10日，軍政府成立，胡漢民當選為州長。12月初，廣東省臨時省委成立。據宣布，21歲以上的廣東國民有選舉權和被選舉權。議會由120名成員組成，其中包括20名聯盟成員，21名軍團協會代表，12名海外華人代表以及師生代表。 9人，1名“自治團體”代表，57名來自各地區的代表。其中，女議員必須佔據​​10人，中國女性是第一個參與政治的人。1913年4月27日，廣東省議會成立，羅曉峰被任命為議長。1918年10月，廣州市政府辦公室成立。1921年2月，廣州正式成立，廣州市政府成立，孫克被任命為市長。1917年至1922年間，孫中山和西南各省議會代表兩次在廣州建立了法國政府。1925年，孫中山去世。同年7月，廣州國民政府成立。 7月4日，廣州市政府成立，實行市委製度。吳朝書被任命為市委主席。1929年，廣州實施了市長制。1949年10月14日，中國人民解放軍佔領了廣州。 28日，廣州軍事管理委員會成立。葉劍英是董事長。目前，廣州實行了中華人民共和國政治體制下的人民代表大會制度。市政府在廣州市委員會的領導下運作，政府駐留在越秀區。廣州省是廣東省省會，廣東省人民政府駐地。\n",
      "問題：廣東省因為哪一場戰爭而獨立？\n",
      "答案：武昌起義\n",
      "文章：自古以來，廣州一直是華南地區的著名商人，擁有2000多年的開放貿易歷史。20世紀70年代末中國大陸改革開放後，廣州經濟發展迅速。2010年，全市地區生產總值10604.48億元，同比增長13％。它成為僅次於上海和北京的第三個進入“萬億元俱樂部”國內生產總值的城市。這也是第一個超過一萬億的經濟總量。首都。根據國務院2005年發布的報告，廣州成為中國第一個進入“發達”狀態的城市。2012年9月，廣州南沙新區獲批，成為第六個國家級開放開發新區。2015年，廣州GDP達到1810.41億元，人均GDP達到138,377.05元。國內生產總值是中國的第三位，人均國內生產總值與西班牙相當。購買力平價水平與發達國家相當。\n",
      "問題：進入國內生產總值「萬億元俱樂部」的城市第三個為？\n",
      "答案：廣州\n",
      "文章：多年來，廣州當局積極開展各種政府項目。自1990年以來，廣州參與了“創建國家健康城市”，並於2008年成功獲得該獎項。1998年，“創建全國文明城市”開始，2011年取得了成功。在“創造健康”期間，廣州市的衛生狀況得到了明顯改善，如清理城市衛生角，城中村，污水處理和食品安全管理。一些官員說，“創造健康”只是一個起點，沒有盡頭。 “創造”是“人心的項目”。關於在這些項目，形式主義和騷亂上花費的巨額公共資金，還有媒體問題和批評。多年來在這兩個項目上花費的公共資金數量已達數十億，這使得計算難度很大。在廣州亞運會之際，廣州市政府在2010年之前開展了大量的城市建設項目，包括：改造多條道路和人行道，重新鋪設地磚和花卉基地;和許多新老天橋的灰白色油漆;大多數街道拱廊和歷史建築的改造;正面建築的屋頂均勻配備紅色塑料屋頂，外牆經過翻新，配備空調壓縮機蓋和照明。然而，有些人質疑，在亞運會期間，許多精心準備的道路被強行翻新，當街邊商場和歷史建築被翻新時，原有的歷史和藝術感被摧毀。許多小偷參與了街道上數千棟建築的統一改造。通過腳手架，數百戶家庭被盜。項目完成後不久，揭露了涉及使用劣質材料的事件，這也遭到許多公民的批評。作為中國的中心城市之一，廣州的醫療保險和便利服務覆蓋了整個城市。大多數市政公園和所有公共廁所也是免費的。\n",
      "問題：廣州市於什麼時候獲得從1990年開始參與的「創衛」？\n",
      "答案：\n",
      "正確答案: 2008年\n",
      "模型輸出: 廣州获得「創建國家健康城市」獎項\n",
      "\n",
      "請從最後一篇的文章中找出最後一個問題的答案\n",
      "文章：清朝末期，廣州爆發了幾次武裝起義，所有起義都以失敗告終。1911年10月10日武昌起義後，廣東省獨立。 11月10日，軍政府成立，胡漢民當選為州長。12月初，廣東省臨時省委成立。據宣布，21歲以上的廣東國民有選舉權和被選舉權。議會由120名成員組成，其中包括20名聯盟成員，21名軍團協會代表，12名海外華人代表以及師生代表。 9人，1名“自治團體”代表，57名來自各地區的代表。其中，女議員必須佔據​​10人，中國女性是第一個參與政治的人。1913年4月27日，廣東省議會成立，羅曉峰被任命為議長。1918年10月，廣州市政府辦公室成立。1921年2月，廣州正式成立，廣州市政府成立，孫克被任命為市長。1917年至1922年間，孫中山和西南各省議會代表兩次在廣州建立了法國政府。1925年，孫中山去世。同年7月，廣州國民政府成立。 7月4日，廣州市政府成立，實行市委製度。吳朝書被任命為市委主席。1929年，廣州實施了市長制。1949年10月14日，中國人民解放軍佔領了廣州。 28日，廣州軍事管理委員會成立。葉劍英是董事長。目前，廣州實行了中華人民共和國政治體制下的人民代表大會制度。市政府在廣州市委員會的領導下運作，政府駐留在越秀區。廣州省是廣東省省會，廣東省人民政府駐地。\n",
      "問題：廣東省因為哪一場戰爭而獨立？\n",
      "答案：武昌起義\n",
      "文章：廣州的雨水豐富，土地肥沃。市區曾經擁有非常大的農業用地。兩千年前有水稻種植記錄。宋代的廣州是中國最大的大米市場之一，蔬菜，水果，甘蔗和鮮花也很有名。由於長期以來一直是國家港口，廣州引進了各種優質作物品種。二十世紀上半葉，由於外國農產品的入侵和戰爭的影響，廣州的農業增長放緩。在20世紀50年代中期，農業生產急劇增加，但是後來的“大躍進”和隨後的文化大革命嚴重打擊了農業生產。改革開放以來，隨著廣州作為一個大城市的發展，服務城市的郊區農業模式逐步形成。政府的政策是為城市服務，豐富農民和人民，並鼓勵出口收入。具體措施是降低糧食生產比例，增加水果，蔬菜等農副產品比重，努力發展林業，畜牧業和漁業。廣州的農業產值大幅增加，但隨著第二，三產業的快速增長，農業的經濟份額逐漸下降。1978年，廣州農業總產值佔地區生產總值的11.67％，1990年下降到8.05％。 2015年，廣州農業總產值為413億元，佔地區GDP的2.28％。城市發展和工業化進程也造成了農村勞動力的大量流失和農地的迅速衰退。清光緒五年間，廣州登記的天山山池總面積為10662.3萬畝。1990年，耕地面積為247萬畝，2006年減少到158.3萬畝。目前，廣州農產品種植地主要分佈在白雲，花都，番禺，南沙，從化和增城。1990年，農業人口為252.87萬，2008年為792,200。廣州最著名的農業特產包括梧桐五秀和各種熱帶水果，如荔枝，香蕉，木瓜和菠蘿。\n",
      "問題：1978年的廣州市農業生產總值到了哪一年占地區生總值減少了約9.39%？\n",
      "答案：2015\n",
      "文章：2012年，全市常住人口1283萬人，戶籍人口8230萬，城鎮常住人口778.17萬人，外來人口占36％。廣州是全國人口密度高的城市之一。大多數人口集中在舊城區。四個中心區的平均居民人口密度達到每平方公里18,113人。人口密度最高的越秀區每平方公里達到34,009人，是人口密度最低的從化市的100多倍。自2001年以來，廣州的年出生率一直低於每千人9.6人，自然增長率低於每千人3.4人。公民的預期壽命高於全國平均水平，男性的預期壽命為75.25歲，女性的預期壽命為80.94歲。與此同時，人口老齡化問題也日益突出。截至2008年底，60歲以上老年人口達到1103,500人，佔全市總人口的13.4％。其中，老城區老年人口比例最高，超過18％，預計2030年老年人口將超過200萬。2010年第六次全國人口普查顯示，廣州的男性多於女性。截至2007年底，男女比例為109.46，即每100名女性109.46名男性。男性多於女性573,694。其中，0~14歲年齡組性別失衡嚴重，達到115.62，表明廣州性別比差距將在未來擴大。廣州人口以漢族為主，佔常住人口的98.3％，少數民族人口為219,900人。它屬於55個少數民族。其中，壯族，土家族，苗族，瑤族，回族，滿族，彝族，蒙古族，布依族，朝鮮族等10個民族。廣州經濟的快速發展和高就業機會吸引了大批農民工。 2008年，農民工佔該市人口的40％。如何妥善管理城市管理是市政府的一項艱鉅任務。\n",
      "問題：哪邊的人口密度為廣州市的一百倍分之一以下？\n",
      "答案：\n",
      "正確答案: 從化市\n",
      "模型輸出: 越秀區\n",
      "\n",
      "請從最後一篇的文章中找出最後一個問題的答案\n",
      "文章：中華人民共和國成立後的工業國有化。在20世紀50年代和60年代，該行業復甦，但文化大革命再次嚴重影響了廣州的工業生產，工業發展放緩。然而，在政府的支持下，仍然建立了重工業體系。1975年以後，政局改善，政府大力支持以日用品為主的輕工業，廣州工業進入快速增長期。20世紀80年代末，廣州主要發展第三產業，工業產值比重下降。從20世紀90年代到2000年，廣州市政府試圖改變行業構成，增加對重工業的支持。汽車，石化，電子信息產品的製造已成為廣州的三大支柱產業。廣州的工業總產值在全省排名第三。其中，汽車工業成功吸引了日本三大汽車製造企業投資建廠，使廣州成為近幾年來中國重要的汽車生產基地之一。江南最大的廣州晨天汽車零部件市場位於郊區，廣州也是國內。生產日本汽車最多的城市。\n",
      "問題：中華人民共和國成立後由於什麼事件廣州的工業發展又減慢？\n",
      "答案：文化大革命\n",
      "文章：公元前214年，秦始皇出兵徵兵嶺南，南海縣任仁軍在梵山和廬山建造了番禺城。這是廣州最初建成時的名稱，已在中華民國使用。公元226年和246年，吳國將膠州分為兩部分：“廣州”和“廣州”。合浦以南仍被稱為“城洲”，合浦以北被稱為國務院芷芝部的“廣州”。 “廣州”包括南海，蒼梧，榆林和合浦四個縣。這是兩國分裂的開始，也是“廣州”這個名稱的開頭，但廣州當時只提到了一個管轄區，相當於現在的廣東省。自唐代以來，廣州地區已成立為光復的起源。它於1921年正式成立，番禺市首次被評為廣州。廣州又被稱為“五羊城”，“陽城”和“遂城”，簡稱“隋”。這些別名來自五羊的傳說：有五個神仙穿著五色衣服，騎著五色羊。拿著“一根六根”的穀物來到廣州市，在把耳朵送到城市後，他們飛走了。五隻羊變成了石頭。因此，廣州也被稱為“五陽城”和“遂城”。因為它位於亞熱帶地區，氣候溫暖​​，適合種植花卉。此外，廣州人喜愛種花，買花，送花。花卉市場每年繁榮，廣州享有華城的美譽。從唐代開始，廣州就是廣州的首府。清朝以後，它是廣東省的省會。因此，省會成為廣州廣東人的總稱。在古代，廣州也有南武市，楚庭，番禺和南海的稱號。\n",
      "問題：番禺城這一個名子一直用到哪一年才改名為廣州市？\n",
      "答案：1921\n",
      "文章：作為中國最大的城市之一，廣州有大量在廣州工作的外國人。然而，“本地人”與“外國人”之間的關係難以協調，也會引發一系列社會問題。由於廣州的能力和就業能力有限，廣州無法容納來自全國各地的農民工。其安全環境已經過嚴格測試。經常發生“兩個盜賊和一個小偷”事件，特別是在城市村莊。根據廣州社會科學院的一項調查，80％的囚犯被逮捕為“局外人”。除了廣東話的光復文化外，外國人和外國方言的排斥增加了廣州市民的仇外心理。近年來，由於政府的大力禁令，廣州的公安管理取得了顯著成效。2014年，廣東省政府明確要求控制廣州和深圳特大城市的人口規模。2008年，農民工佔廣州人口的40％，其中大多數是女性農民工，其中許多人未婚。截至2013年底，廣州註冊人口為686.7萬。根據一定的錯失率，廣州的實際流動人口約為837萬。這些數據已超過常住人口。最新統計數據顯示，廣州常住人口為832萬。其中，白雲區，番禺區和天河區流動人口超過百萬。番禺區有111.7萬戶登記移民，流動戶籍區涉及30個省，自治區，直轄市。在性別比方面，男性略多，佔總數的53.5％;女性佔總數的46.5％。在番禺流動人口中，兒童和老年人的比例極小，15歲以下為0.49％，60歲以上為1.68％，大專以上為10％。\n",
      "問題：有百分之多少的犯人被抓的是外地人？\n",
      "答案：\n",
      "正確答案: 80\n",
      "模型輸出: 廣州的社會環境\n",
      "\n",
      "請從最後一篇的文章中找出最後一個問題的答案\n",
      "文章：作為中國最大的城市之一，廣州有大量在廣州工作的外國人。然而，“本地人”與“外國人”之間的關係難以協調，也會引發一系列社會問題。由於廣州的能力和就業能力有限，廣州無法容納來自全國各地的農民工。其安全環境已經過嚴格測試。經常發生“兩個盜賊和一個小偷”事件，特別是在城市村莊。根據廣州社會科學院的一項調查，80％的囚犯被逮捕為“局外人”。除了廣東話的光復文化外，外國人和外國方言的排斥增加了廣州市民的仇外心理。近年來，由於政府的大力禁令，廣州的公安管理取得了顯著成效。2014年，廣東省政府明確要求控制廣州和深圳特大城市的人口規模。2008年，農民工佔廣州人口的40％，其中大多數是女性農民工，其中許多人未婚。截至2013年底，廣州註冊人口為686.7萬。根據一定的錯失率，廣州的實際流動人口約為837萬。這些數據已超過常住人口。最新統計數據顯示，廣州常住人口為832萬。其中，白雲區，番禺區和天河區流動人口超過百萬。番禺區有111.7萬戶登記移民，流動戶籍區涉及30個省，自治區，直轄市。在性別比方面，男性略多，佔總數的53.5％;女性佔總數的46.5％。在番禺流動人口中，兒童和老年人的比例極小，15歲以下為0.49％，60歲以上為1.68％，大專以上為10％。\n",
      "問題：有百分之多少的犯人被抓的是外地人？\n",
      "答案：80\n",
      "文章：多年來，廣州當局積極開展各種政府項目。自1990年以來，廣州參與了“創建國家健康城市”，並於2008年成功獲得該獎項。1998年，“創建全國文明城市”開始，2011年取得了成功。在“創造健康”期間，廣州市的衛生狀況得到了明顯改善，如清理城市衛生角，城中村，污水處理和食品安全管理。一些官員說，“創造健康”只是一個起點，沒有盡頭。 “創造”是“人心的項目”。關於在這些項目，形式主義和騷亂上花費的巨額公共資金，還有媒體問題和批評。多年來在這兩個項目上花費的公共資金數量已達數十億，這使得計算難度很大。在廣州亞運會之際，廣州市政府在2010年之前開展了大量的城市建設項目，包括：改造多條道路和人行道，重新鋪設地磚和花卉基地;和許多新老天橋的灰白色油漆;大多數街道拱廊和歷史建築的改造;正面建築的屋頂均勻配備紅色塑料屋頂，外牆經過翻新，配備空調壓縮機蓋和照明。然而，有些人質疑，在亞運會期間，許多精心準備的道路被強行翻新，當街邊商場和歷史建築被翻新時，原有的歷史和藝術感被摧毀。許多小偷參與了街道上數千棟建築的統一改造。通過腳手架，數百戶家庭被盜。項目完成後不久，揭露了涉及使用劣質材料的事件，這也遭到許多公民的批評。作為中國的中心城市之一，廣州的醫療保險和便利服務覆蓋了整個城市。大多數市政公園和所有公共廁所也是免費的。\n",
      "問題：廣州市於什麼時候獲得從1990年開始參與的「創衛」？\n",
      "答案：2008年\n",
      "文章：廣州是中國最重要的開放城市之一。作為對外貿易的窗口，有許多來自北美，日本，韓國，歐洲，中東，非洲等國的外國人，尤其是非洲黑人。廣州甚至被稱為“第三世界”。首都主要位於廣州市環市東路秀山大廈，淘金路，花園酒店，建馬路和劍馬路;天河北路，體育東路，天河路，龍口西路，臨河中路等公司辦公室;番禺區的一些物業，如克利福德新村和麗江花園，也有更多的外國人。據廣州市公安局出入境管理支隊2014年10月統計，在廣州登記的外國人有11.8萬人，其中臨時居民71,000人，居住半年以上的47,000名永久居民。其中大多數是來自非洲的4,000多名註冊外國人;來自阿拉伯國家和地區的約1萬人雖然沒有大規模的定居點，但經常出現在小北 - 登封地區的商業區進行商業活動。在荔景街也有更多的韓國人。2013年，有超過15萬名乘客進出廣州港，其中54萬人來自非洲國家。他們中的大多數人來往於同一個人，主要是因為簽證允許短期逗留或商業需求而不是移民。近年來，廣州黑人一直捲入廣州的一些公安問題，引起廣州市民的一些不滿。針對“三非”問題，公安機關設立了四個涉外綜合執法隊伍，翻譯志願服務隊伍，調查“三個非外國”外國專業隊和四個外國隊 - 相關管理基層服務隊伍;自年初以來，廣州在200多名外國人社區建立了75個“外國人管理服務工作站”，並大力打擊“三非”外國人。它已經取得了成果。\n",
      "問題：被稱為「第三世界首都」的城市哪種外籍人士最多？\n",
      "答案：\n",
      "正確答案: 非洲黑人\n",
      "模型輸出: 非洲黑人\n",
      "\n",
      "請從最後一篇的文章中找出最後一個問題的答案\n",
      "文章：公元前214年，秦始皇出兵徵兵嶺南，南海縣任仁軍在梵山和廬山建造了番禺城。這是廣州最初建成時的名稱，已在中華民國使用。公元226年和246年，吳國將膠州分為兩部分：“廣州”和“廣州”。合浦以南仍被稱為“城洲”，合浦以北被稱為國務院芷芝部的“廣州”。 “廣州”包括南海，蒼梧，榆林和合浦四個縣。這是兩國分裂的開始，也是“廣州”這個名稱的開頭，但廣州當時只提到了一個管轄區，相當於現在的廣東省。自唐代以來，廣州地區已成立為光復的起源。它於1921年正式成立，番禺市首次被評為廣州。廣州又被稱為“五羊城”，“陽城”和“遂城”，簡稱“隋”。這些別名來自五羊的傳說：有五個神仙穿著五色衣服，騎著五色羊。拿著“一根六根”的穀物來到廣州市，在把耳朵送到城市後，他們飛走了。五隻羊變成了石頭。因此，廣州也被稱為“五陽城”和“遂城”。因為它位於亞熱帶地區，氣候溫暖​​，適合種植花卉。此外，廣州人喜愛種花，買花，送花。花卉市場每年繁榮，廣州享有華城的美譽。從唐代開始，廣州就是廣州的首府。清朝以後，它是廣東省的省會。因此，省會成為廣州廣東人的總稱。在古代，廣州也有南武市，楚庭，番禺和南海的稱號。\n",
      "問題：番禺城這一個名子一直用到哪一年才改名為廣州市？\n",
      "答案：1921\n",
      "文章：2012年，全市常住人口1283萬人，戶籍人口8230萬，城鎮常住人口778.17萬人，外來人口占36％。廣州是全國人口密度高的城市之一。大多數人口集中在舊城區。四個中心區的平均居民人口密度達到每平方公里18,113人。人口密度最高的越秀區每平方公里達到34,009人，是人口密度最低的從化市的100多倍。自2001年以來，廣州的年出生率一直低於每千人9.6人，自然增長率低於每千人3.4人。公民的預期壽命高於全國平均水平，男性的預期壽命為75.25歲，女性的預期壽命為80.94歲。與此同時，人口老齡化問題也日益突出。截至2008年底，60歲以上老年人口達到1103,500人，佔全市總人口的13.4％。其中，老城區老年人口比例最高，超過18％，預計2030年老年人口將超過200萬。2010年第六次全國人口普查顯示，廣州的男性多於女性。截至2007年底，男女比例為109.46，即每100名女性109.46名男性。男性多於女性573,694。其中，0~14歲年齡組性別失衡嚴重，達到115.62，表明廣州性別比差距將在未來擴大。廣州人口以漢族為主，佔常住人口的98.3％，少數民族人口為219,900人。它屬於55個少數民族。其中，壯族，土家族，苗族，瑤族，回族，滿族，彝族，蒙古族，布依族，朝鮮族等10個民族。廣州經濟的快速發展和高就業機會吸引了大批農民工。 2008年，農民工佔該市人口的40％。如何妥善管理城市管理是市政府的一項艱鉅任務。\n",
      "問題：哪邊的人口密度為廣州市的一百倍分之一以下？\n",
      "答案：從化市\n",
      "文章：長期以來，廣州大部分地方的語言主要是廣東話。因此，廣州還形成了粵語文化，包括粵劇，粵劇，南音和鹹水歌。隨著中國大陸的改革開放，來自城外和廣東省以外的大量人口迅速湧入。在這些移民中，由於不同的省/總統，有許多不同的語言，外國人和來自不同地區的人經常用普通話交流;因此，在許多大型公共場所，普通話是主要語言。在某些情況下，將增加粵語或英語廣播，種族群體仍然使用自己的方言進行相互交流。一些外國人會用當地文化交流，用粵語與當地人交流。如今，隨著普通話的推廣，外國和本地年輕人受長期使用普通話作為教學媒介和普通話的共同環境的影響。目前，廣州的語言交換主要講普通話，但當地人仍然使用廣東話。與交流。雖然普通話自21世紀初以來逐漸佔據主導地位，但它受到當地文化的影響。與此同時，由於香港和澳門的距離較近，以及廣州市民近年來開展了一系列推廣普通話的評論，它已開始保護廣東話，所以廣東話仍有一定的地位。當地。 。\n",
      "問題：在廣州許多比較大的公眾場合以甚麼為主要交流語言？\n",
      "答案：\n",
      "正確答案: 普通話\n",
      "模型輸出: 廣州的廣東人,廣東人,廣東人,廣東人,廣\n",
      "\n"
     ]
    }
   ],
   "source": [
    "import random\n",
    "import json\n",
    "\n",
    "with open(\"hw7_in-context-learning-examples.json\", \"r\") as f: \n",
    "    test = json.load(f)\n",
    "\n",
    "# K-shot learning \n",
    "# Give model K examples to make it achieve better accuracy \n",
    "# Note: (1) When K >= 4, CUDA_OUT_OFF_MEMORY may occur.\n",
    "#       (2) The maximum input length of XGLM is 2048\n",
    "K = 2\n",
    "\n",
    "question_ids = [qa[\"id\"] for qa in test[\"questions\"]]\n",
    "\n",
    "with open(\"in-context-learning-result.txt\", \"w\") as f:\n",
    "    print(\"ID,Ground-Truth,Prediction\", file = f)\n",
    "    with torch.no_grad():\n",
    "        for idx, qa in enumerate(test[\"questions\"]):\n",
    "            # You can try different prompts\n",
    "            prompt = \"請從最後一篇的文章中找出最後一個問題的答案\\n\"\n",
    "            exist_question_indexs = [question_ids.index(qa[\"id\"])]\n",
    "\n",
    "            # K-shot learning: give the model K examples with answers\n",
    "            for i in range(K):\n",
    "                question_index = question_ids.index(qa[\"id\"])\n",
    "                while(question_index in exist_question_indexs): \n",
    "                    question_index = random.randint(0, len(question_ids) - 1)\n",
    "                exist_question_indexs.append(question_index)    \n",
    "                paragraph_id = test[\"questions\"][question_index][\"paragraph_id\"]\n",
    "                prompt += f'文章：{test[\"paragraphs\"][paragraph_id]}\\n'\n",
    "                prompt += f'問題：{test[\"questions\"][question_index][\"question_text\"]}\\n'\n",
    "                prompt += f'答案：{test[\"questions\"][question_index][\"answer_text\"]}\\n'\n",
    "\n",
    "            # The final one question without answer\n",
    "            paragraph_id = qa[\"paragraph_id\"]\n",
    "            prompt += f'文章：{test[\"paragraphs\"][paragraph_id]}\\n'\n",
    "            prompt += f'問題：{qa[\"question_text\"]}\\n'\n",
    "            prompt += f'答案：'\n",
    "            \n",
    "            inputs = tokenizer(prompt, add_special_tokens=False, return_tensors=\"pt\") \n",
    "            sample = model.generate(**inputs, max_new_tokens = 20)\n",
    "            text = tokenizer.decode(sample[0], skip_special_tokens=True)\n",
    "\n",
    "            # Note: You can delete this line to see what will happen\n",
    "            text = clean_text(text)\n",
    "            \n",
    "            print(prompt)\n",
    "            print(f'正確答案: {qa[\"answer_text\"]}')\n",
    "            print(f'模型輸出: {text}')\n",
    "            print()\n",
    "\n",
    "            print(f\"{idx},{qa['answer_text']},{text}\", file = f)"
   ]
  },
  {
   "cell_type": "code",
   "execution_count": null,
   "metadata": {},
   "outputs": [],
   "source": []
  }
 ],
 "metadata": {
  "kernelspec": {
   "display_name": "ntu",
   "language": "python",
   "name": "python3"
  },
  "language_info": {
   "codemirror_mode": {
    "name": "ipython",
    "version": 3
   },
   "file_extension": ".py",
   "mimetype": "text/x-python",
   "name": "python",
   "nbconvert_exporter": "python",
   "pygments_lexer": "ipython3",
   "version": "3.10.11"
  },
  "orig_nbformat": 4
 },
 "nbformat": 4,
 "nbformat_minor": 2
}
